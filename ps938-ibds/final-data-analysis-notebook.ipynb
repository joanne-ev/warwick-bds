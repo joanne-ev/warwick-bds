{
 "cells": [
  {
   "cell_type": "markdown",
   "metadata": {},
   "source": [
    "### Packages"
   ]
  },
  {
   "cell_type": "code",
   "execution_count": 1,
   "metadata": {},
   "outputs": [],
   "source": [
    "import pandas as pd\n",
    "import numpy as np\n",
    "import seaborn as sns\n",
    "import matplotlib.pyplot as plt\n",
    "from statsmodels.formula.api import ols\n",
    "from IPython.display import display"
   ]
  },
  {
   "cell_type": "markdown",
   "metadata": {},
   "source": [
    "# Data Pre-Processing"
   ]
  },
  {
   "cell_type": "code",
   "execution_count": 2,
   "metadata": {},
   "outputs": [
    {
     "data": {
      "application/vnd.microsoft.datawrangler.viewer.v0+json": {
       "columns": [
        {
         "name": "index",
         "rawType": "int64",
         "type": "integer"
        },
        {
         "name": "Timestamp",
         "rawType": "object",
         "type": "string"
        },
        {
         "name": "1. What is your age?",
         "rawType": "float64",
         "type": "float"
        },
        {
         "name": "2. Gender",
         "rawType": "object",
         "type": "string"
        },
        {
         "name": "3. Relationship Status",
         "rawType": "object",
         "type": "string"
        },
        {
         "name": "4. Occupation Status",
         "rawType": "object",
         "type": "string"
        },
        {
         "name": "5. What type of organizations are you affiliated with?",
         "rawType": "object",
         "type": "string"
        },
        {
         "name": "6. Do you use social media?",
         "rawType": "object",
         "type": "string"
        },
        {
         "name": "7. What social media platforms do you commonly use?",
         "rawType": "object",
         "type": "string"
        },
        {
         "name": "8. What is the average time you spend on social media every day?",
         "rawType": "object",
         "type": "string"
        },
        {
         "name": "9. How often do you find yourself using Social media without a specific purpose?",
         "rawType": "int64",
         "type": "integer"
        },
        {
         "name": "10. How often do you get distracted by Social media when you are busy doing something?",
         "rawType": "int64",
         "type": "integer"
        },
        {
         "name": "11. Do you feel restless if you haven't used Social media in a while?",
         "rawType": "int64",
         "type": "integer"
        },
        {
         "name": "12. On a scale of 1 to 5, how easily distracted are you?",
         "rawType": "int64",
         "type": "integer"
        },
        {
         "name": "13. On a scale of 1 to 5, how much are you bothered by worries?",
         "rawType": "int64",
         "type": "integer"
        },
        {
         "name": "14. Do you find it difficult to concentrate on things?",
         "rawType": "int64",
         "type": "integer"
        },
        {
         "name": "15. On a scale of 1-5, how often do you compare yourself to other successful people through the use of social media?",
         "rawType": "int64",
         "type": "integer"
        },
        {
         "name": "16. Following the previous question, how do you feel about these comparisons, generally speaking?",
         "rawType": "int64",
         "type": "integer"
        },
        {
         "name": "17. How often do you look to seek validation from features of social media?",
         "rawType": "int64",
         "type": "integer"
        },
        {
         "name": "18. How often do you feel depressed or down?",
         "rawType": "int64",
         "type": "integer"
        },
        {
         "name": "19. On a scale of 1 to 5, how frequently does your interest in daily activities fluctuate?",
         "rawType": "int64",
         "type": "integer"
        },
        {
         "name": "20. On a scale of 1 to 5, how often do you face issues regarding sleep?",
         "rawType": "int64",
         "type": "integer"
        }
       ],
       "conversionMethod": "pd.DataFrame",
       "ref": "214957fa-df63-41a0-9a81-66d05346c2e3",
       "rows": [
        [
         "0",
         "4/18/2022 19:18:47",
         "21.0",
         "Male",
         "In a relationship",
         "University Student",
         "University",
         "Yes",
         "Facebook, Twitter, Instagram, YouTube, Discord, Reddit",
         "Between 2 and 3 hours",
         "5",
         "3",
         "2",
         "5",
         "2",
         "5",
         "2",
         "3",
         "2",
         "5",
         "4",
         "5"
        ],
        [
         "1",
         "4/18/2022 19:19:28",
         "21.0",
         "Female",
         "Single",
         "University Student",
         "University",
         "Yes",
         "Facebook, Twitter, Instagram, YouTube, Discord, Reddit",
         "More than 5 hours",
         "4",
         "3",
         "2",
         "4",
         "5",
         "4",
         "5",
         "1",
         "1",
         "5",
         "4",
         "5"
        ],
        [
         "2",
         "4/18/2022 19:25:59",
         "21.0",
         "Female",
         "Single",
         "University Student",
         "University",
         "Yes",
         "Facebook, Instagram, YouTube, Pinterest",
         "Between 3 and 4 hours",
         "3",
         "2",
         "1",
         "2",
         "5",
         "4",
         "3",
         "3",
         "1",
         "4",
         "2",
         "5"
        ]
       ],
       "shape": {
        "columns": 21,
        "rows": 3
       }
      },
      "text/html": [
       "<div>\n",
       "<style scoped>\n",
       "    .dataframe tbody tr th:only-of-type {\n",
       "        vertical-align: middle;\n",
       "    }\n",
       "\n",
       "    .dataframe tbody tr th {\n",
       "        vertical-align: top;\n",
       "    }\n",
       "\n",
       "    .dataframe thead th {\n",
       "        text-align: right;\n",
       "    }\n",
       "</style>\n",
       "<table border=\"1\" class=\"dataframe\">\n",
       "  <thead>\n",
       "    <tr style=\"text-align: right;\">\n",
       "      <th></th>\n",
       "      <th>Timestamp</th>\n",
       "      <th>1. What is your age?</th>\n",
       "      <th>2. Gender</th>\n",
       "      <th>3. Relationship Status</th>\n",
       "      <th>4. Occupation Status</th>\n",
       "      <th>5. What type of organizations are you affiliated with?</th>\n",
       "      <th>6. Do you use social media?</th>\n",
       "      <th>7. What social media platforms do you commonly use?</th>\n",
       "      <th>8. What is the average time you spend on social media every day?</th>\n",
       "      <th>9. How often do you find yourself using Social media without a specific purpose?</th>\n",
       "      <th>...</th>\n",
       "      <th>11. Do you feel restless if you haven't used Social media in a while?</th>\n",
       "      <th>12. On a scale of 1 to 5, how easily distracted are you?</th>\n",
       "      <th>13. On a scale of 1 to 5, how much are you bothered by worries?</th>\n",
       "      <th>14. Do you find it difficult to concentrate on things?</th>\n",
       "      <th>15. On a scale of 1-5, how often do you compare yourself to other successful people through the use of social media?</th>\n",
       "      <th>16. Following the previous question, how do you feel about these comparisons, generally speaking?</th>\n",
       "      <th>17. How often do you look to seek validation from features of social media?</th>\n",
       "      <th>18. How often do you feel depressed or down?</th>\n",
       "      <th>19. On a scale of 1 to 5, how frequently does your interest in daily activities fluctuate?</th>\n",
       "      <th>20. On a scale of 1 to 5, how often do you face issues regarding sleep?</th>\n",
       "    </tr>\n",
       "  </thead>\n",
       "  <tbody>\n",
       "    <tr>\n",
       "      <th>0</th>\n",
       "      <td>4/18/2022 19:18:47</td>\n",
       "      <td>21.0</td>\n",
       "      <td>Male</td>\n",
       "      <td>In a relationship</td>\n",
       "      <td>University Student</td>\n",
       "      <td>University</td>\n",
       "      <td>Yes</td>\n",
       "      <td>Facebook, Twitter, Instagram, YouTube, Discord...</td>\n",
       "      <td>Between 2 and 3 hours</td>\n",
       "      <td>5</td>\n",
       "      <td>...</td>\n",
       "      <td>2</td>\n",
       "      <td>5</td>\n",
       "      <td>2</td>\n",
       "      <td>5</td>\n",
       "      <td>2</td>\n",
       "      <td>3</td>\n",
       "      <td>2</td>\n",
       "      <td>5</td>\n",
       "      <td>4</td>\n",
       "      <td>5</td>\n",
       "    </tr>\n",
       "    <tr>\n",
       "      <th>1</th>\n",
       "      <td>4/18/2022 19:19:28</td>\n",
       "      <td>21.0</td>\n",
       "      <td>Female</td>\n",
       "      <td>Single</td>\n",
       "      <td>University Student</td>\n",
       "      <td>University</td>\n",
       "      <td>Yes</td>\n",
       "      <td>Facebook, Twitter, Instagram, YouTube, Discord...</td>\n",
       "      <td>More than 5 hours</td>\n",
       "      <td>4</td>\n",
       "      <td>...</td>\n",
       "      <td>2</td>\n",
       "      <td>4</td>\n",
       "      <td>5</td>\n",
       "      <td>4</td>\n",
       "      <td>5</td>\n",
       "      <td>1</td>\n",
       "      <td>1</td>\n",
       "      <td>5</td>\n",
       "      <td>4</td>\n",
       "      <td>5</td>\n",
       "    </tr>\n",
       "    <tr>\n",
       "      <th>2</th>\n",
       "      <td>4/18/2022 19:25:59</td>\n",
       "      <td>21.0</td>\n",
       "      <td>Female</td>\n",
       "      <td>Single</td>\n",
       "      <td>University Student</td>\n",
       "      <td>University</td>\n",
       "      <td>Yes</td>\n",
       "      <td>Facebook, Instagram, YouTube, Pinterest</td>\n",
       "      <td>Between 3 and 4 hours</td>\n",
       "      <td>3</td>\n",
       "      <td>...</td>\n",
       "      <td>1</td>\n",
       "      <td>2</td>\n",
       "      <td>5</td>\n",
       "      <td>4</td>\n",
       "      <td>3</td>\n",
       "      <td>3</td>\n",
       "      <td>1</td>\n",
       "      <td>4</td>\n",
       "      <td>2</td>\n",
       "      <td>5</td>\n",
       "    </tr>\n",
       "  </tbody>\n",
       "</table>\n",
       "<p>3 rows × 21 columns</p>\n",
       "</div>"
      ],
      "text/plain": [
       "            Timestamp  1. What is your age? 2. Gender 3. Relationship Status  \\\n",
       "0  4/18/2022 19:18:47                  21.0      Male      In a relationship   \n",
       "1  4/18/2022 19:19:28                  21.0    Female                 Single   \n",
       "2  4/18/2022 19:25:59                  21.0    Female                 Single   \n",
       "\n",
       "  4. Occupation Status 5. What type of organizations are you affiliated with?  \\\n",
       "0   University Student                                         University       \n",
       "1   University Student                                         University       \n",
       "2   University Student                                         University       \n",
       "\n",
       "  6. Do you use social media?  \\\n",
       "0                         Yes   \n",
       "1                         Yes   \n",
       "2                         Yes   \n",
       "\n",
       "  7. What social media platforms do you commonly use?  \\\n",
       "0  Facebook, Twitter, Instagram, YouTube, Discord...    \n",
       "1  Facebook, Twitter, Instagram, YouTube, Discord...    \n",
       "2            Facebook, Instagram, YouTube, Pinterest    \n",
       "\n",
       "  8. What is the average time you spend on social media every day?  \\\n",
       "0                              Between 2 and 3 hours                 \n",
       "1                                  More than 5 hours                 \n",
       "2                              Between 3 and 4 hours                 \n",
       "\n",
       "   9. How often do you find yourself using Social media without a specific purpose?  \\\n",
       "0                                                  5                                  \n",
       "1                                                  4                                  \n",
       "2                                                  3                                  \n",
       "\n",
       "   ...  11. Do you feel restless if you haven't used Social media in a while?  \\\n",
       "0  ...                                                  2                       \n",
       "1  ...                                                  2                       \n",
       "2  ...                                                  1                       \n",
       "\n",
       "   12. On a scale of 1 to 5, how easily distracted are you?  \\\n",
       "0                                                  5          \n",
       "1                                                  4          \n",
       "2                                                  2          \n",
       "\n",
       "   13. On a scale of 1 to 5, how much are you bothered by worries?  \\\n",
       "0                                                  2                 \n",
       "1                                                  5                 \n",
       "2                                                  5                 \n",
       "\n",
       "   14. Do you find it difficult to concentrate on things?  \\\n",
       "0                                                  5        \n",
       "1                                                  4        \n",
       "2                                                  4        \n",
       "\n",
       "   15. On a scale of 1-5, how often do you compare yourself to other successful people through the use of social media?  \\\n",
       "0                                                  2                                                                      \n",
       "1                                                  5                                                                      \n",
       "2                                                  3                                                                      \n",
       "\n",
       "   16. Following the previous question, how do you feel about these comparisons, generally speaking?  \\\n",
       "0                                                  3                                                   \n",
       "1                                                  1                                                   \n",
       "2                                                  3                                                   \n",
       "\n",
       "   17. How often do you look to seek validation from features of social media?  \\\n",
       "0                                                  2                             \n",
       "1                                                  1                             \n",
       "2                                                  1                             \n",
       "\n",
       "   18. How often do you feel depressed or down?  \\\n",
       "0                                             5   \n",
       "1                                             5   \n",
       "2                                             4   \n",
       "\n",
       "   19. On a scale of 1 to 5, how frequently does your interest in daily activities fluctuate?  \\\n",
       "0                                                  4                                            \n",
       "1                                                  4                                            \n",
       "2                                                  2                                            \n",
       "\n",
       "   20. On a scale of 1 to 5, how often do you face issues regarding sleep?  \n",
       "0                                                  5                        \n",
       "1                                                  5                        \n",
       "2                                                  5                        \n",
       "\n",
       "[3 rows x 21 columns]"
      ]
     },
     "execution_count": 2,
     "metadata": {},
     "output_type": "execute_result"
    }
   ],
   "source": [
    "smmh = pd.read_csv('smmh.csv')\n",
    "smmh.head(3)"
   ]
  },
  {
   "cell_type": "markdown",
   "metadata": {},
   "source": [
    "1. Remove `Timestamp` column\n",
    "2. Rename all columns \n",
    "3. Separate the responses for *7. What social media platforms do you commonly use?* into individual columns, each representing a specific platform, with binary responses (0 or 1) to indicate whether the participant uses the platform\n",
    "4. Create a new column calculating the number of paltforms each participant used\n"
   ]
  },
  {
   "cell_type": "code",
   "execution_count": 3,
   "metadata": {},
   "outputs": [
    {
     "data": {
      "text/plain": [
       "Index(['Timestamp', '1. What is your age?', '2. Gender',\n",
       "       '3. Relationship Status', '4. Occupation Status',\n",
       "       '5. What type of organizations are you affiliated with?',\n",
       "       '6. Do you use social media?',\n",
       "       '7. What social media platforms do you commonly use?',\n",
       "       '8. What is the average time you spend on social media every day?',\n",
       "       '9. How often do you find yourself using Social media without a specific purpose?',\n",
       "       '10. How often do you get distracted by Social media when you are busy doing something?',\n",
       "       '11. Do you feel restless if you haven't used Social media in a while?',\n",
       "       '12. On a scale of 1 to 5, how easily distracted are you?',\n",
       "       '13. On a scale of 1 to 5, how much are you bothered by worries?',\n",
       "       '14. Do you find it difficult to concentrate on things?',\n",
       "       '15. On a scale of 1-5, how often do you compare yourself to other successful people through the use of social media?',\n",
       "       '16. Following the previous question, how do you feel about these comparisons, generally speaking?',\n",
       "       '17. How often do you look to seek validation from features of social media?',\n",
       "       '18. How often do you feel depressed or down?',\n",
       "       '19. On a scale of 1 to 5, how frequently does your interest in daily activities fluctuate?',\n",
       "       '20. On a scale of 1 to 5, how often do you face issues regarding sleep?'],\n",
       "      dtype='object')"
      ]
     },
     "execution_count": 3,
     "metadata": {},
     "output_type": "execute_result"
    }
   ],
   "source": [
    "smmh.columns"
   ]
  },
  {
   "cell_type": "code",
   "execution_count": 4,
   "metadata": {},
   "outputs": [
    {
     "data": {
      "text/plain": [
       "(481, 21)"
      ]
     },
     "execution_count": 4,
     "metadata": {},
     "output_type": "execute_result"
    }
   ],
   "source": [
    "smmh.shape"
   ]
  },
  {
   "cell_type": "code",
   "execution_count": 5,
   "metadata": {},
   "outputs": [],
   "source": [
    "smmh_df = smmh.copy()\n",
    "\n",
    "# Remove `Timestamp` column\n",
    "smmh_df = smmh_df.drop('Timestamp', axis=1)\n",
    "\n",
    "# Rename columns\n",
    "smmh_df.columns = [\n",
    "\t'age',\n",
    "\t'gender',\n",
    "\t'relationship',\n",
    "\t'occupation',\n",
    "\t'organisation',\n",
    "\t'sm_use',\n",
    "\t'platforms',\n",
    "\t'time_on_sm',\n",
    "\t'purposeless_sm_use',\n",
    "\t'distracted_by_sm',\n",
    "\t'restless_without_sm',\n",
    "\t'easily_distracted',\n",
    "\t'bothered_by_worries',\n",
    "\t'difficult_to_concentrate',\n",
    "\t'social_comparison',\n",
    "\t'social_comparison_feelings',\n",
    "\t'validation_seeking',\n",
    "\t'depressed',\n",
    "\t'interest_in_daily_activities',\n",
    "\t'sleep_issues'\n",
    "]\n",
    "\n",
    "# Separate responses by comma to create a list of response items\n",
    "smp_responses = smmh_df['platforms'].str.split(',')\n",
    "smp_responses = smp_responses.explode()\t# transform each element of a list to a row with repeating index values\n",
    "smp_responses = smp_responses.str.strip()\t# remove trailing spaces\n",
    "smp_cat = smp_responses.unique()\t# identify unique categories\n",
    "smp_cat = sorted(smp_cat)\t# sort the categories in alphabetical order\n",
    "\n",
    "# Create a new column for each platform with a binary response indicated use (0: No use, 1: Use)\n",
    "for platform in smp_cat:\n",
    "\tsmmh_df[platform] = smmh_df['platforms'].apply(lambda row: row.count(platform))\n",
    "\n",
    "# Calculate the total number of platforms used per participant\n",
    "smmh_df['total_platforms'] = smmh_df.iloc[:, -9:].sum(axis = 1)\n",
    "\n",
    "# Remove `platforms` column\n",
    "smmh_df = smmh_df.drop('platforms', axis = 1)"
   ]
  },
  {
   "cell_type": "code",
   "execution_count": 6,
   "metadata": {},
   "outputs": [
    {
     "data": {
      "application/vnd.microsoft.datawrangler.viewer.v0+json": {
       "columns": [
        {
         "name": "index",
         "rawType": "int64",
         "type": "integer"
        },
        {
         "name": "age",
         "rawType": "float64",
         "type": "float"
        },
        {
         "name": "gender",
         "rawType": "object",
         "type": "string"
        },
        {
         "name": "relationship",
         "rawType": "object",
         "type": "string"
        },
        {
         "name": "occupation",
         "rawType": "object",
         "type": "string"
        },
        {
         "name": "organisation",
         "rawType": "object",
         "type": "string"
        },
        {
         "name": "sm_use",
         "rawType": "object",
         "type": "string"
        },
        {
         "name": "time_on_sm",
         "rawType": "object",
         "type": "string"
        },
        {
         "name": "purposeless_sm_use",
         "rawType": "int64",
         "type": "integer"
        },
        {
         "name": "distracted_by_sm",
         "rawType": "int64",
         "type": "integer"
        },
        {
         "name": "restless_without_sm",
         "rawType": "int64",
         "type": "integer"
        },
        {
         "name": "easily_distracted",
         "rawType": "int64",
         "type": "integer"
        },
        {
         "name": "bothered_by_worries",
         "rawType": "int64",
         "type": "integer"
        },
        {
         "name": "difficult_to_concentrate",
         "rawType": "int64",
         "type": "integer"
        },
        {
         "name": "social_comparison",
         "rawType": "int64",
         "type": "integer"
        },
        {
         "name": "social_comparison_feelings",
         "rawType": "int64",
         "type": "integer"
        },
        {
         "name": "validation_seeking",
         "rawType": "int64",
         "type": "integer"
        },
        {
         "name": "depressed",
         "rawType": "int64",
         "type": "integer"
        },
        {
         "name": "interest_in_daily_activities",
         "rawType": "int64",
         "type": "integer"
        },
        {
         "name": "sleep_issues",
         "rawType": "int64",
         "type": "integer"
        },
        {
         "name": "Discord",
         "rawType": "int64",
         "type": "integer"
        },
        {
         "name": "Facebook",
         "rawType": "int64",
         "type": "integer"
        },
        {
         "name": "Instagram",
         "rawType": "int64",
         "type": "integer"
        },
        {
         "name": "Pinterest",
         "rawType": "int64",
         "type": "integer"
        },
        {
         "name": "Reddit",
         "rawType": "int64",
         "type": "integer"
        },
        {
         "name": "Snapchat",
         "rawType": "int64",
         "type": "integer"
        },
        {
         "name": "TikTok",
         "rawType": "int64",
         "type": "integer"
        },
        {
         "name": "Twitter",
         "rawType": "int64",
         "type": "integer"
        },
        {
         "name": "YouTube",
         "rawType": "int64",
         "type": "integer"
        },
        {
         "name": "total_platforms",
         "rawType": "int64",
         "type": "integer"
        }
       ],
       "conversionMethod": "pd.DataFrame",
       "ref": "da9b053a-1cf4-4c98-86d3-cd1bc5da7f6b",
       "rows": [
        [
         "0",
         "21.0",
         "Male",
         "In a relationship",
         "University Student",
         "University",
         "Yes",
         "Between 2 and 3 hours",
         "5",
         "3",
         "2",
         "5",
         "2",
         "5",
         "2",
         "3",
         "2",
         "5",
         "4",
         "5",
         "1",
         "1",
         "1",
         "0",
         "1",
         "0",
         "0",
         "1",
         "1",
         "6"
        ],
        [
         "1",
         "21.0",
         "Female",
         "Single",
         "University Student",
         "University",
         "Yes",
         "More than 5 hours",
         "4",
         "3",
         "2",
         "4",
         "5",
         "4",
         "5",
         "1",
         "1",
         "5",
         "4",
         "5",
         "1",
         "1",
         "1",
         "0",
         "1",
         "0",
         "0",
         "1",
         "1",
         "6"
        ],
        [
         "2",
         "21.0",
         "Female",
         "Single",
         "University Student",
         "University",
         "Yes",
         "Between 3 and 4 hours",
         "3",
         "2",
         "1",
         "2",
         "5",
         "4",
         "3",
         "3",
         "1",
         "4",
         "2",
         "5",
         "0",
         "1",
         "1",
         "1",
         "0",
         "0",
         "0",
         "0",
         "1",
         "4"
        ],
        [
         "3",
         "21.0",
         "Female",
         "Single",
         "University Student",
         "University",
         "Yes",
         "More than 5 hours",
         "4",
         "2",
         "1",
         "3",
         "5",
         "3",
         "5",
         "1",
         "2",
         "4",
         "3",
         "2",
         "0",
         "1",
         "1",
         "0",
         "0",
         "0",
         "0",
         "0",
         "0",
         "2"
        ],
        [
         "4",
         "21.0",
         "Female",
         "Single",
         "University Student",
         "University",
         "Yes",
         "Between 2 and 3 hours",
         "3",
         "5",
         "4",
         "4",
         "5",
         "5",
         "3",
         "3",
         "3",
         "4",
         "4",
         "1",
         "0",
         "1",
         "1",
         "0",
         "0",
         "0",
         "0",
         "0",
         "1",
         "3"
        ]
       ],
       "shape": {
        "columns": 29,
        "rows": 5
       }
      },
      "text/html": [
       "<div>\n",
       "<style scoped>\n",
       "    .dataframe tbody tr th:only-of-type {\n",
       "        vertical-align: middle;\n",
       "    }\n",
       "\n",
       "    .dataframe tbody tr th {\n",
       "        vertical-align: top;\n",
       "    }\n",
       "\n",
       "    .dataframe thead th {\n",
       "        text-align: right;\n",
       "    }\n",
       "</style>\n",
       "<table border=\"1\" class=\"dataframe\">\n",
       "  <thead>\n",
       "    <tr style=\"text-align: right;\">\n",
       "      <th></th>\n",
       "      <th>age</th>\n",
       "      <th>gender</th>\n",
       "      <th>relationship</th>\n",
       "      <th>occupation</th>\n",
       "      <th>organisation</th>\n",
       "      <th>sm_use</th>\n",
       "      <th>time_on_sm</th>\n",
       "      <th>purposeless_sm_use</th>\n",
       "      <th>distracted_by_sm</th>\n",
       "      <th>restless_without_sm</th>\n",
       "      <th>...</th>\n",
       "      <th>Discord</th>\n",
       "      <th>Facebook</th>\n",
       "      <th>Instagram</th>\n",
       "      <th>Pinterest</th>\n",
       "      <th>Reddit</th>\n",
       "      <th>Snapchat</th>\n",
       "      <th>TikTok</th>\n",
       "      <th>Twitter</th>\n",
       "      <th>YouTube</th>\n",
       "      <th>total_platforms</th>\n",
       "    </tr>\n",
       "  </thead>\n",
       "  <tbody>\n",
       "    <tr>\n",
       "      <th>0</th>\n",
       "      <td>21.0</td>\n",
       "      <td>Male</td>\n",
       "      <td>In a relationship</td>\n",
       "      <td>University Student</td>\n",
       "      <td>University</td>\n",
       "      <td>Yes</td>\n",
       "      <td>Between 2 and 3 hours</td>\n",
       "      <td>5</td>\n",
       "      <td>3</td>\n",
       "      <td>2</td>\n",
       "      <td>...</td>\n",
       "      <td>1</td>\n",
       "      <td>1</td>\n",
       "      <td>1</td>\n",
       "      <td>0</td>\n",
       "      <td>1</td>\n",
       "      <td>0</td>\n",
       "      <td>0</td>\n",
       "      <td>1</td>\n",
       "      <td>1</td>\n",
       "      <td>6</td>\n",
       "    </tr>\n",
       "    <tr>\n",
       "      <th>1</th>\n",
       "      <td>21.0</td>\n",
       "      <td>Female</td>\n",
       "      <td>Single</td>\n",
       "      <td>University Student</td>\n",
       "      <td>University</td>\n",
       "      <td>Yes</td>\n",
       "      <td>More than 5 hours</td>\n",
       "      <td>4</td>\n",
       "      <td>3</td>\n",
       "      <td>2</td>\n",
       "      <td>...</td>\n",
       "      <td>1</td>\n",
       "      <td>1</td>\n",
       "      <td>1</td>\n",
       "      <td>0</td>\n",
       "      <td>1</td>\n",
       "      <td>0</td>\n",
       "      <td>0</td>\n",
       "      <td>1</td>\n",
       "      <td>1</td>\n",
       "      <td>6</td>\n",
       "    </tr>\n",
       "    <tr>\n",
       "      <th>2</th>\n",
       "      <td>21.0</td>\n",
       "      <td>Female</td>\n",
       "      <td>Single</td>\n",
       "      <td>University Student</td>\n",
       "      <td>University</td>\n",
       "      <td>Yes</td>\n",
       "      <td>Between 3 and 4 hours</td>\n",
       "      <td>3</td>\n",
       "      <td>2</td>\n",
       "      <td>1</td>\n",
       "      <td>...</td>\n",
       "      <td>0</td>\n",
       "      <td>1</td>\n",
       "      <td>1</td>\n",
       "      <td>1</td>\n",
       "      <td>0</td>\n",
       "      <td>0</td>\n",
       "      <td>0</td>\n",
       "      <td>0</td>\n",
       "      <td>1</td>\n",
       "      <td>4</td>\n",
       "    </tr>\n",
       "    <tr>\n",
       "      <th>3</th>\n",
       "      <td>21.0</td>\n",
       "      <td>Female</td>\n",
       "      <td>Single</td>\n",
       "      <td>University Student</td>\n",
       "      <td>University</td>\n",
       "      <td>Yes</td>\n",
       "      <td>More than 5 hours</td>\n",
       "      <td>4</td>\n",
       "      <td>2</td>\n",
       "      <td>1</td>\n",
       "      <td>...</td>\n",
       "      <td>0</td>\n",
       "      <td>1</td>\n",
       "      <td>1</td>\n",
       "      <td>0</td>\n",
       "      <td>0</td>\n",
       "      <td>0</td>\n",
       "      <td>0</td>\n",
       "      <td>0</td>\n",
       "      <td>0</td>\n",
       "      <td>2</td>\n",
       "    </tr>\n",
       "    <tr>\n",
       "      <th>4</th>\n",
       "      <td>21.0</td>\n",
       "      <td>Female</td>\n",
       "      <td>Single</td>\n",
       "      <td>University Student</td>\n",
       "      <td>University</td>\n",
       "      <td>Yes</td>\n",
       "      <td>Between 2 and 3 hours</td>\n",
       "      <td>3</td>\n",
       "      <td>5</td>\n",
       "      <td>4</td>\n",
       "      <td>...</td>\n",
       "      <td>0</td>\n",
       "      <td>1</td>\n",
       "      <td>1</td>\n",
       "      <td>0</td>\n",
       "      <td>0</td>\n",
       "      <td>0</td>\n",
       "      <td>0</td>\n",
       "      <td>0</td>\n",
       "      <td>1</td>\n",
       "      <td>3</td>\n",
       "    </tr>\n",
       "  </tbody>\n",
       "</table>\n",
       "<p>5 rows × 29 columns</p>\n",
       "</div>"
      ],
      "text/plain": [
       "    age  gender       relationship          occupation organisation sm_use  \\\n",
       "0  21.0    Male  In a relationship  University Student   University    Yes   \n",
       "1  21.0  Female             Single  University Student   University    Yes   \n",
       "2  21.0  Female             Single  University Student   University    Yes   \n",
       "3  21.0  Female             Single  University Student   University    Yes   \n",
       "4  21.0  Female             Single  University Student   University    Yes   \n",
       "\n",
       "              time_on_sm  purposeless_sm_use  distracted_by_sm  \\\n",
       "0  Between 2 and 3 hours                   5                 3   \n",
       "1      More than 5 hours                   4                 3   \n",
       "2  Between 3 and 4 hours                   3                 2   \n",
       "3      More than 5 hours                   4                 2   \n",
       "4  Between 2 and 3 hours                   3                 5   \n",
       "\n",
       "   restless_without_sm  ...  Discord  Facebook  Instagram  Pinterest  Reddit  \\\n",
       "0                    2  ...        1         1          1          0       1   \n",
       "1                    2  ...        1         1          1          0       1   \n",
       "2                    1  ...        0         1          1          1       0   \n",
       "3                    1  ...        0         1          1          0       0   \n",
       "4                    4  ...        0         1          1          0       0   \n",
       "\n",
       "   Snapchat  TikTok  Twitter  YouTube  total_platforms  \n",
       "0         0       0        1        1                6  \n",
       "1         0       0        1        1                6  \n",
       "2         0       0        0        1                4  \n",
       "3         0       0        0        0                2  \n",
       "4         0       0        0        1                3  \n",
       "\n",
       "[5 rows x 29 columns]"
      ]
     },
     "execution_count": 6,
     "metadata": {},
     "output_type": "execute_result"
    }
   ],
   "source": [
    "smmh_df.head()"
   ]
  },
  {
   "cell_type": "code",
   "execution_count": 7,
   "metadata": {},
   "outputs": [
    {
     "name": "stdout",
     "output_type": "stream",
     "text": [
      "age 0\n",
      "gender 0\n",
      "relationship 0\n",
      "occupation 0\n",
      "organisation 30\n",
      "sm_use 0\n",
      "time_on_sm 0\n",
      "purposeless_sm_use 0\n",
      "distracted_by_sm 0\n",
      "restless_without_sm 0\n",
      "easily_distracted 0\n",
      "bothered_by_worries 0\n",
      "difficult_to_concentrate 0\n",
      "social_comparison 0\n",
      "social_comparison_feelings 0\n",
      "validation_seeking 0\n",
      "depressed 0\n",
      "interest_in_daily_activities 0\n",
      "sleep_issues 0\n",
      "Discord 0\n",
      "Facebook 0\n",
      "Instagram 0\n",
      "Pinterest 0\n",
      "Reddit 0\n",
      "Snapchat 0\n",
      "TikTok 0\n",
      "Twitter 0\n",
      "YouTube 0\n",
      "total_platforms 0\n"
     ]
    }
   ],
   "source": [
    "# Check missing values\n",
    "for cols in smmh_df.columns:\n",
    "\tprint(f\"{cols}\", smmh_df[f'{cols}'].isna().sum())"
   ]
  },
  {
   "cell_type": "markdown",
   "metadata": {},
   "source": [
    "# Descriptives Statistics"
   ]
  },
  {
   "cell_type": "code",
   "execution_count": 8,
   "metadata": {},
   "outputs": [
    {
     "name": "stdout",
     "output_type": "stream",
     "text": [
      "13.0 91.0\n"
     ]
    }
   ],
   "source": [
    "print(\n",
    "    smmh_df['age'].min(),\n",
    "    smmh_df['age'].max()\n",
    ")"
   ]
  },
  {
   "cell_type": "code",
   "execution_count": 9,
   "metadata": {},
   "outputs": [
    {
     "data": {
      "text/plain": [
       "(462, 29)"
      ]
     },
     "execution_count": 9,
     "metadata": {},
     "output_type": "execute_result"
    }
   ],
   "source": [
    "smmh_df = smmh_df[smmh_df['age'] >= 18]\n",
    "\n",
    "smmh_df.shape\n"
   ]
  },
  {
   "cell_type": "code",
   "execution_count": 10,
   "metadata": {},
   "outputs": [
    {
     "data": {
      "application/vnd.microsoft.datawrangler.viewer.v0+json": {
       "columns": [
        {
         "name": "index",
         "rawType": "object",
         "type": "string"
        },
        {
         "name": "Mean",
         "rawType": "float64",
         "type": "float"
        },
        {
         "name": "Standard deviation",
         "rawType": "float64",
         "type": "float"
        }
       ],
       "conversionMethod": "pd.DataFrame",
       "ref": "ff811dc6-36ee-4aa2-b20e-0b3793f10903",
       "rows": [
        [
         "age",
         "26.57",
         "9.87"
        ],
        [
         "purposeless_sm_use",
         "3.56",
         "1.1"
        ],
        [
         "distracted_by_sm",
         "3.32",
         "1.32"
        ],
        [
         "restless_without_sm",
         "2.6",
         "1.27"
        ],
        [
         "easily_distracted",
         "3.35",
         "1.18"
        ],
        [
         "bothered_by_worries",
         "3.56",
         "1.29"
        ],
        [
         "difficult_to_concentrate",
         "3.25",
         "1.35"
        ],
        [
         "social_comparison",
         "2.83",
         "1.41"
        ],
        [
         "social_comparison_feelings",
         "2.78",
         "1.06"
        ],
        [
         "validation_seeking",
         "2.47",
         "1.24"
        ],
        [
         "depressed",
         "3.27",
         "1.31"
        ],
        [
         "interest_in_daily_activities",
         "3.17",
         "1.26"
        ],
        [
         "sleep_issues",
         "3.21",
         "1.46"
        ]
       ],
       "shape": {
        "columns": 2,
        "rows": 13
       }
      },
      "text/html": [
       "<div>\n",
       "<style scoped>\n",
       "    .dataframe tbody tr th:only-of-type {\n",
       "        vertical-align: middle;\n",
       "    }\n",
       "\n",
       "    .dataframe tbody tr th {\n",
       "        vertical-align: top;\n",
       "    }\n",
       "\n",
       "    .dataframe thead th {\n",
       "        text-align: right;\n",
       "    }\n",
       "</style>\n",
       "<table border=\"1\" class=\"dataframe\">\n",
       "  <thead>\n",
       "    <tr style=\"text-align: right;\">\n",
       "      <th></th>\n",
       "      <th>Mean</th>\n",
       "      <th>Standard deviation</th>\n",
       "    </tr>\n",
       "  </thead>\n",
       "  <tbody>\n",
       "    <tr>\n",
       "      <th>age</th>\n",
       "      <td>26.57</td>\n",
       "      <td>9.87</td>\n",
       "    </tr>\n",
       "    <tr>\n",
       "      <th>purposeless_sm_use</th>\n",
       "      <td>3.56</td>\n",
       "      <td>1.10</td>\n",
       "    </tr>\n",
       "    <tr>\n",
       "      <th>distracted_by_sm</th>\n",
       "      <td>3.32</td>\n",
       "      <td>1.32</td>\n",
       "    </tr>\n",
       "    <tr>\n",
       "      <th>restless_without_sm</th>\n",
       "      <td>2.60</td>\n",
       "      <td>1.27</td>\n",
       "    </tr>\n",
       "    <tr>\n",
       "      <th>easily_distracted</th>\n",
       "      <td>3.35</td>\n",
       "      <td>1.18</td>\n",
       "    </tr>\n",
       "    <tr>\n",
       "      <th>bothered_by_worries</th>\n",
       "      <td>3.56</td>\n",
       "      <td>1.29</td>\n",
       "    </tr>\n",
       "    <tr>\n",
       "      <th>difficult_to_concentrate</th>\n",
       "      <td>3.25</td>\n",
       "      <td>1.35</td>\n",
       "    </tr>\n",
       "    <tr>\n",
       "      <th>social_comparison</th>\n",
       "      <td>2.83</td>\n",
       "      <td>1.41</td>\n",
       "    </tr>\n",
       "    <tr>\n",
       "      <th>social_comparison_feelings</th>\n",
       "      <td>2.78</td>\n",
       "      <td>1.06</td>\n",
       "    </tr>\n",
       "    <tr>\n",
       "      <th>validation_seeking</th>\n",
       "      <td>2.47</td>\n",
       "      <td>1.24</td>\n",
       "    </tr>\n",
       "    <tr>\n",
       "      <th>depressed</th>\n",
       "      <td>3.27</td>\n",
       "      <td>1.31</td>\n",
       "    </tr>\n",
       "    <tr>\n",
       "      <th>interest_in_daily_activities</th>\n",
       "      <td>3.17</td>\n",
       "      <td>1.26</td>\n",
       "    </tr>\n",
       "    <tr>\n",
       "      <th>sleep_issues</th>\n",
       "      <td>3.21</td>\n",
       "      <td>1.46</td>\n",
       "    </tr>\n",
       "  </tbody>\n",
       "</table>\n",
       "</div>"
      ],
      "text/plain": [
       "                               Mean  Standard deviation\n",
       "age                           26.57                9.87\n",
       "purposeless_sm_use             3.56                1.10\n",
       "distracted_by_sm               3.32                1.32\n",
       "restless_without_sm            2.60                1.27\n",
       "easily_distracted              3.35                1.18\n",
       "bothered_by_worries            3.56                1.29\n",
       "difficult_to_concentrate       3.25                1.35\n",
       "social_comparison              2.83                1.41\n",
       "social_comparison_feelings     2.78                1.06\n",
       "validation_seeking             2.47                1.24\n",
       "depressed                      3.27                1.31\n",
       "interest_in_daily_activities   3.17                1.26\n",
       "sleep_issues                   3.21                1.46"
      ]
     },
     "execution_count": 10,
     "metadata": {},
     "output_type": "execute_result"
    }
   ],
   "source": [
    "# Calculate the mean and standard deviation for each question \n",
    "qscores_dict = {}\n",
    "q_var = [\n",
    "\t'age', 'purposeless_sm_use', 'distracted_by_sm',\n",
    "\t'restless_without_sm', 'easily_distracted', 'bothered_by_worries',\n",
    "\t'difficult_to_concentrate', 'social_comparison',\n",
    "\t'social_comparison_feelings', 'validation_seeking', 'depressed',\n",
    "\t'interest_in_daily_activities', 'sleep_issues'\n",
    "]\n",
    "\n",
    "for score in q_var:\n",
    "\tscores = smmh_df[score].values\n",
    "\tqscores_dict[f'{score}'] = [scores.mean().round(2), scores.std().round(2)]\n",
    "\n",
    "qscores_dict = pd.DataFrame.from_dict(\n",
    "\tqscores_dict,\n",
    "\torient = 'index',\n",
    "\tcolumns = ['Mean', 'Standard deviation']\n",
    ")\n",
    "\n",
    "qscores_dict"
   ]
  },
  {
   "cell_type": "code",
   "execution_count": 11,
   "metadata": {},
   "outputs": [
    {
     "data": {
      "application/vnd.microsoft.datawrangler.viewer.v0+json": {
       "columns": [
        {
         "name": "index",
         "rawType": "int64",
         "type": "integer"
        },
        {
         "name": "gender",
         "rawType": "object",
         "type": "string"
        },
        {
         "name": "Count",
         "rawType": "int64",
         "type": "integer"
        },
        {
         "name": "Percentage",
         "rawType": "float64",
         "type": "float"
        }
       ],
       "conversionMethod": "pd.DataFrame",
       "ref": "bfdb061e-c121-44b2-92c0-4850da625bad",
       "rows": [
        [
         "0",
         "Female",
         "258",
         "55.8"
        ],
        [
         "1",
         "Male",
         "198",
         "42.9"
        ],
        [
         "2",
         "Nonbinary ",
         "1",
         "0.2"
        ],
        [
         "3",
         "Non-binary",
         "1",
         "0.2"
        ],
        [
         "4",
         "NB",
         "1",
         "0.2"
        ],
        [
         "5",
         "Trans",
         "1",
         "0.2"
        ],
        [
         "6",
         "Non binary ",
         "1",
         "0.2"
        ],
        [
         "7",
         "There are others???",
         "1",
         "0.2"
        ]
       ],
       "shape": {
        "columns": 3,
        "rows": 8
       }
      },
      "text/html": [
       "<div>\n",
       "<style scoped>\n",
       "    .dataframe tbody tr th:only-of-type {\n",
       "        vertical-align: middle;\n",
       "    }\n",
       "\n",
       "    .dataframe tbody tr th {\n",
       "        vertical-align: top;\n",
       "    }\n",
       "\n",
       "    .dataframe thead th {\n",
       "        text-align: right;\n",
       "    }\n",
       "</style>\n",
       "<table border=\"1\" class=\"dataframe\">\n",
       "  <thead>\n",
       "    <tr style=\"text-align: right;\">\n",
       "      <th></th>\n",
       "      <th>gender</th>\n",
       "      <th>Count</th>\n",
       "      <th>Percentage</th>\n",
       "    </tr>\n",
       "  </thead>\n",
       "  <tbody>\n",
       "    <tr>\n",
       "      <th>0</th>\n",
       "      <td>Female</td>\n",
       "      <td>258</td>\n",
       "      <td>55.8</td>\n",
       "    </tr>\n",
       "    <tr>\n",
       "      <th>1</th>\n",
       "      <td>Male</td>\n",
       "      <td>198</td>\n",
       "      <td>42.9</td>\n",
       "    </tr>\n",
       "    <tr>\n",
       "      <th>2</th>\n",
       "      <td>Nonbinary</td>\n",
       "      <td>1</td>\n",
       "      <td>0.2</td>\n",
       "    </tr>\n",
       "    <tr>\n",
       "      <th>3</th>\n",
       "      <td>Non-binary</td>\n",
       "      <td>1</td>\n",
       "      <td>0.2</td>\n",
       "    </tr>\n",
       "    <tr>\n",
       "      <th>4</th>\n",
       "      <td>NB</td>\n",
       "      <td>1</td>\n",
       "      <td>0.2</td>\n",
       "    </tr>\n",
       "    <tr>\n",
       "      <th>5</th>\n",
       "      <td>Trans</td>\n",
       "      <td>1</td>\n",
       "      <td>0.2</td>\n",
       "    </tr>\n",
       "    <tr>\n",
       "      <th>6</th>\n",
       "      <td>Non binary</td>\n",
       "      <td>1</td>\n",
       "      <td>0.2</td>\n",
       "    </tr>\n",
       "    <tr>\n",
       "      <th>7</th>\n",
       "      <td>There are others???</td>\n",
       "      <td>1</td>\n",
       "      <td>0.2</td>\n",
       "    </tr>\n",
       "  </tbody>\n",
       "</table>\n",
       "</div>"
      ],
      "text/plain": [
       "                gender  Count  Percentage\n",
       "0               Female    258        55.8\n",
       "1                 Male    198        42.9\n",
       "2           Nonbinary       1         0.2\n",
       "3           Non-binary      1         0.2\n",
       "4                   NB      1         0.2\n",
       "5                Trans      1         0.2\n",
       "6          Non binary       1         0.2\n",
       "7  There are others???      1         0.2"
      ]
     },
     "metadata": {},
     "output_type": "display_data"
    },
    {
     "data": {
      "application/vnd.microsoft.datawrangler.viewer.v0+json": {
       "columns": [
        {
         "name": "index",
         "rawType": "int64",
         "type": "integer"
        },
        {
         "name": "relationship",
         "rawType": "object",
         "type": "string"
        },
        {
         "name": "Count",
         "rawType": "int64",
         "type": "integer"
        },
        {
         "name": "Percentage",
         "rawType": "float64",
         "type": "float"
        }
       ],
       "conversionMethod": "pd.DataFrame",
       "ref": "ba7ec1c9-6a66-433d-9f4c-097bafb1b4d4",
       "rows": [
        [
         "0",
         "Single",
         "266",
         "57.6"
        ],
        [
         "1",
         "Married",
         "101",
         "21.9"
        ],
        [
         "2",
         "In a relationship",
         "88",
         "19.0"
        ],
        [
         "3",
         "Divorced",
         "7",
         "1.5"
        ]
       ],
       "shape": {
        "columns": 3,
        "rows": 4
       }
      },
      "text/html": [
       "<div>\n",
       "<style scoped>\n",
       "    .dataframe tbody tr th:only-of-type {\n",
       "        vertical-align: middle;\n",
       "    }\n",
       "\n",
       "    .dataframe tbody tr th {\n",
       "        vertical-align: top;\n",
       "    }\n",
       "\n",
       "    .dataframe thead th {\n",
       "        text-align: right;\n",
       "    }\n",
       "</style>\n",
       "<table border=\"1\" class=\"dataframe\">\n",
       "  <thead>\n",
       "    <tr style=\"text-align: right;\">\n",
       "      <th></th>\n",
       "      <th>relationship</th>\n",
       "      <th>Count</th>\n",
       "      <th>Percentage</th>\n",
       "    </tr>\n",
       "  </thead>\n",
       "  <tbody>\n",
       "    <tr>\n",
       "      <th>0</th>\n",
       "      <td>Single</td>\n",
       "      <td>266</td>\n",
       "      <td>57.6</td>\n",
       "    </tr>\n",
       "    <tr>\n",
       "      <th>1</th>\n",
       "      <td>Married</td>\n",
       "      <td>101</td>\n",
       "      <td>21.9</td>\n",
       "    </tr>\n",
       "    <tr>\n",
       "      <th>2</th>\n",
       "      <td>In a relationship</td>\n",
       "      <td>88</td>\n",
       "      <td>19.0</td>\n",
       "    </tr>\n",
       "    <tr>\n",
       "      <th>3</th>\n",
       "      <td>Divorced</td>\n",
       "      <td>7</td>\n",
       "      <td>1.5</td>\n",
       "    </tr>\n",
       "  </tbody>\n",
       "</table>\n",
       "</div>"
      ],
      "text/plain": [
       "        relationship  Count  Percentage\n",
       "0             Single    266        57.6\n",
       "1            Married    101        21.9\n",
       "2  In a relationship     88        19.0\n",
       "3           Divorced      7         1.5"
      ]
     },
     "metadata": {},
     "output_type": "display_data"
    },
    {
     "data": {
      "application/vnd.microsoft.datawrangler.viewer.v0+json": {
       "columns": [
        {
         "name": "index",
         "rawType": "int64",
         "type": "integer"
        },
        {
         "name": "occupation",
         "rawType": "object",
         "type": "string"
        },
        {
         "name": "Count",
         "rawType": "int64",
         "type": "integer"
        },
        {
         "name": "Percentage",
         "rawType": "float64",
         "type": "float"
        }
       ],
       "conversionMethod": "pd.DataFrame",
       "ref": "7323e43d-ade4-4485-af0c-b8d832dc0545",
       "rows": [
        [
         "0",
         "University Student",
         "292",
         "63.2"
        ],
        [
         "1",
         "Salaried Worker",
         "132",
         "28.6"
        ],
        [
         "2",
         "School Student",
         "30",
         "6.5"
        ],
        [
         "3",
         "Retired",
         "8",
         "1.7"
        ]
       ],
       "shape": {
        "columns": 3,
        "rows": 4
       }
      },
      "text/html": [
       "<div>\n",
       "<style scoped>\n",
       "    .dataframe tbody tr th:only-of-type {\n",
       "        vertical-align: middle;\n",
       "    }\n",
       "\n",
       "    .dataframe tbody tr th {\n",
       "        vertical-align: top;\n",
       "    }\n",
       "\n",
       "    .dataframe thead th {\n",
       "        text-align: right;\n",
       "    }\n",
       "</style>\n",
       "<table border=\"1\" class=\"dataframe\">\n",
       "  <thead>\n",
       "    <tr style=\"text-align: right;\">\n",
       "      <th></th>\n",
       "      <th>occupation</th>\n",
       "      <th>Count</th>\n",
       "      <th>Percentage</th>\n",
       "    </tr>\n",
       "  </thead>\n",
       "  <tbody>\n",
       "    <tr>\n",
       "      <th>0</th>\n",
       "      <td>University Student</td>\n",
       "      <td>292</td>\n",
       "      <td>63.2</td>\n",
       "    </tr>\n",
       "    <tr>\n",
       "      <th>1</th>\n",
       "      <td>Salaried Worker</td>\n",
       "      <td>132</td>\n",
       "      <td>28.6</td>\n",
       "    </tr>\n",
       "    <tr>\n",
       "      <th>2</th>\n",
       "      <td>School Student</td>\n",
       "      <td>30</td>\n",
       "      <td>6.5</td>\n",
       "    </tr>\n",
       "    <tr>\n",
       "      <th>3</th>\n",
       "      <td>Retired</td>\n",
       "      <td>8</td>\n",
       "      <td>1.7</td>\n",
       "    </tr>\n",
       "  </tbody>\n",
       "</table>\n",
       "</div>"
      ],
      "text/plain": [
       "           occupation  Count  Percentage\n",
       "0  University Student    292        63.2\n",
       "1     Salaried Worker    132        28.6\n",
       "2      School Student     30         6.5\n",
       "3             Retired      8         1.7"
      ]
     },
     "metadata": {},
     "output_type": "display_data"
    },
    {
     "data": {
      "application/vnd.microsoft.datawrangler.viewer.v0+json": {
       "columns": [
        {
         "name": "index",
         "rawType": "int64",
         "type": "integer"
        },
        {
         "name": "organisation",
         "rawType": "object",
         "type": "string"
        },
        {
         "name": "Count",
         "rawType": "int64",
         "type": "integer"
        },
        {
         "name": "Percentage",
         "rawType": "float64",
         "type": "float"
        }
       ],
       "conversionMethod": "pd.DataFrame",
       "ref": "cbc1e493-9f93-4af1-af8f-741e5849cbe4",
       "rows": [
        [
         "0",
         "University",
         "239",
         "55.1"
        ],
        [
         "1",
         "Private",
         "60",
         "13.8"
        ],
        [
         "2",
         "Company",
         "30",
         "6.9"
        ],
        [
         "3",
         "School",
         "27",
         "6.2"
        ],
        [
         "4",
         "University, Company",
         "19",
         "4.4"
        ],
        [
         "5",
         "University, Private",
         "16",
         "3.7"
        ],
        [
         "6",
         "School, University",
         "9",
         "2.1"
        ],
        [
         "7",
         "Company, Private",
         "7",
         "1.6"
        ],
        [
         "8",
         "Goverment",
         "6",
         "1.4"
        ],
        [
         "9",
         "University, Company, Private",
         "5",
         "1.2"
        ],
        [
         "10",
         "School, University, Private",
         "4",
         "0.9"
        ],
        [
         "11",
         "University, N/A",
         "3",
         "0.7"
        ],
        [
         "12",
         "University, Goverment",
         "2",
         "0.5"
        ],
        [
         "13",
         "School, Company",
         "2",
         "0.5"
        ],
        [
         "14",
         "School, N/A",
         "2",
         "0.5"
        ],
        [
         "15",
         "School, Private",
         "1",
         "0.2"
        ],
        [
         "16",
         "University, Goverment, Private",
         "1",
         "0.2"
        ],
        [
         "17",
         "University, Company, Goverment",
         "1",
         "0.2"
        ]
       ],
       "shape": {
        "columns": 3,
        "rows": 18
       }
      },
      "text/html": [
       "<div>\n",
       "<style scoped>\n",
       "    .dataframe tbody tr th:only-of-type {\n",
       "        vertical-align: middle;\n",
       "    }\n",
       "\n",
       "    .dataframe tbody tr th {\n",
       "        vertical-align: top;\n",
       "    }\n",
       "\n",
       "    .dataframe thead th {\n",
       "        text-align: right;\n",
       "    }\n",
       "</style>\n",
       "<table border=\"1\" class=\"dataframe\">\n",
       "  <thead>\n",
       "    <tr style=\"text-align: right;\">\n",
       "      <th></th>\n",
       "      <th>organisation</th>\n",
       "      <th>Count</th>\n",
       "      <th>Percentage</th>\n",
       "    </tr>\n",
       "  </thead>\n",
       "  <tbody>\n",
       "    <tr>\n",
       "      <th>0</th>\n",
       "      <td>University</td>\n",
       "      <td>239</td>\n",
       "      <td>55.1</td>\n",
       "    </tr>\n",
       "    <tr>\n",
       "      <th>1</th>\n",
       "      <td>Private</td>\n",
       "      <td>60</td>\n",
       "      <td>13.8</td>\n",
       "    </tr>\n",
       "    <tr>\n",
       "      <th>2</th>\n",
       "      <td>Company</td>\n",
       "      <td>30</td>\n",
       "      <td>6.9</td>\n",
       "    </tr>\n",
       "    <tr>\n",
       "      <th>3</th>\n",
       "      <td>School</td>\n",
       "      <td>27</td>\n",
       "      <td>6.2</td>\n",
       "    </tr>\n",
       "    <tr>\n",
       "      <th>4</th>\n",
       "      <td>University, Company</td>\n",
       "      <td>19</td>\n",
       "      <td>4.4</td>\n",
       "    </tr>\n",
       "    <tr>\n",
       "      <th>5</th>\n",
       "      <td>University, Private</td>\n",
       "      <td>16</td>\n",
       "      <td>3.7</td>\n",
       "    </tr>\n",
       "    <tr>\n",
       "      <th>6</th>\n",
       "      <td>School, University</td>\n",
       "      <td>9</td>\n",
       "      <td>2.1</td>\n",
       "    </tr>\n",
       "    <tr>\n",
       "      <th>7</th>\n",
       "      <td>Company, Private</td>\n",
       "      <td>7</td>\n",
       "      <td>1.6</td>\n",
       "    </tr>\n",
       "    <tr>\n",
       "      <th>8</th>\n",
       "      <td>Goverment</td>\n",
       "      <td>6</td>\n",
       "      <td>1.4</td>\n",
       "    </tr>\n",
       "    <tr>\n",
       "      <th>9</th>\n",
       "      <td>University, Company, Private</td>\n",
       "      <td>5</td>\n",
       "      <td>1.2</td>\n",
       "    </tr>\n",
       "    <tr>\n",
       "      <th>10</th>\n",
       "      <td>School, University, Private</td>\n",
       "      <td>4</td>\n",
       "      <td>0.9</td>\n",
       "    </tr>\n",
       "    <tr>\n",
       "      <th>11</th>\n",
       "      <td>University, N/A</td>\n",
       "      <td>3</td>\n",
       "      <td>0.7</td>\n",
       "    </tr>\n",
       "    <tr>\n",
       "      <th>12</th>\n",
       "      <td>University, Goverment</td>\n",
       "      <td>2</td>\n",
       "      <td>0.5</td>\n",
       "    </tr>\n",
       "    <tr>\n",
       "      <th>13</th>\n",
       "      <td>School, Company</td>\n",
       "      <td>2</td>\n",
       "      <td>0.5</td>\n",
       "    </tr>\n",
       "    <tr>\n",
       "      <th>14</th>\n",
       "      <td>School, N/A</td>\n",
       "      <td>2</td>\n",
       "      <td>0.5</td>\n",
       "    </tr>\n",
       "    <tr>\n",
       "      <th>15</th>\n",
       "      <td>School, Private</td>\n",
       "      <td>1</td>\n",
       "      <td>0.2</td>\n",
       "    </tr>\n",
       "    <tr>\n",
       "      <th>16</th>\n",
       "      <td>University, Goverment, Private</td>\n",
       "      <td>1</td>\n",
       "      <td>0.2</td>\n",
       "    </tr>\n",
       "    <tr>\n",
       "      <th>17</th>\n",
       "      <td>University, Company, Goverment</td>\n",
       "      <td>1</td>\n",
       "      <td>0.2</td>\n",
       "    </tr>\n",
       "  </tbody>\n",
       "</table>\n",
       "</div>"
      ],
      "text/plain": [
       "                      organisation  Count  Percentage\n",
       "0                       University    239        55.1\n",
       "1                          Private     60        13.8\n",
       "2                          Company     30         6.9\n",
       "3                           School     27         6.2\n",
       "4              University, Company     19         4.4\n",
       "5              University, Private     16         3.7\n",
       "6               School, University      9         2.1\n",
       "7                 Company, Private      7         1.6\n",
       "8                        Goverment      6         1.4\n",
       "9     University, Company, Private      5         1.2\n",
       "10     School, University, Private      4         0.9\n",
       "11                 University, N/A      3         0.7\n",
       "12           University, Goverment      2         0.5\n",
       "13                 School, Company      2         0.5\n",
       "14                     School, N/A      2         0.5\n",
       "15                 School, Private      1         0.2\n",
       "16  University, Goverment, Private      1         0.2\n",
       "17  University, Company, Goverment      1         0.2"
      ]
     },
     "metadata": {},
     "output_type": "display_data"
    },
    {
     "data": {
      "application/vnd.microsoft.datawrangler.viewer.v0+json": {
       "columns": [
        {
         "name": "index",
         "rawType": "int64",
         "type": "integer"
        },
        {
         "name": "sm_use",
         "rawType": "object",
         "type": "string"
        },
        {
         "name": "Count",
         "rawType": "int64",
         "type": "integer"
        },
        {
         "name": "Percentage",
         "rawType": "float64",
         "type": "float"
        }
       ],
       "conversionMethod": "pd.DataFrame",
       "ref": "8131143e-a8e2-4b7f-81f6-a1dbc2b8e233",
       "rows": [
        [
         "0",
         "Yes",
         "459",
         "99.4"
        ],
        [
         "1",
         "No",
         "3",
         "0.6"
        ]
       ],
       "shape": {
        "columns": 3,
        "rows": 2
       }
      },
      "text/html": [
       "<div>\n",
       "<style scoped>\n",
       "    .dataframe tbody tr th:only-of-type {\n",
       "        vertical-align: middle;\n",
       "    }\n",
       "\n",
       "    .dataframe tbody tr th {\n",
       "        vertical-align: top;\n",
       "    }\n",
       "\n",
       "    .dataframe thead th {\n",
       "        text-align: right;\n",
       "    }\n",
       "</style>\n",
       "<table border=\"1\" class=\"dataframe\">\n",
       "  <thead>\n",
       "    <tr style=\"text-align: right;\">\n",
       "      <th></th>\n",
       "      <th>sm_use</th>\n",
       "      <th>Count</th>\n",
       "      <th>Percentage</th>\n",
       "    </tr>\n",
       "  </thead>\n",
       "  <tbody>\n",
       "    <tr>\n",
       "      <th>0</th>\n",
       "      <td>Yes</td>\n",
       "      <td>459</td>\n",
       "      <td>99.4</td>\n",
       "    </tr>\n",
       "    <tr>\n",
       "      <th>1</th>\n",
       "      <td>No</td>\n",
       "      <td>3</td>\n",
       "      <td>0.6</td>\n",
       "    </tr>\n",
       "  </tbody>\n",
       "</table>\n",
       "</div>"
      ],
      "text/plain": [
       "  sm_use  Count  Percentage\n",
       "0    Yes    459        99.4\n",
       "1     No      3         0.6"
      ]
     },
     "metadata": {},
     "output_type": "display_data"
    },
    {
     "data": {
      "application/vnd.microsoft.datawrangler.viewer.v0+json": {
       "columns": [
        {
         "name": "index",
         "rawType": "int64",
         "type": "integer"
        },
        {
         "name": "time_on_sm",
         "rawType": "object",
         "type": "string"
        },
        {
         "name": "Count",
         "rawType": "int64",
         "type": "integer"
        },
        {
         "name": "Percentage",
         "rawType": "float64",
         "type": "float"
        }
       ],
       "conversionMethod": "pd.DataFrame",
       "ref": "53ade3ad-b8fe-4f74-875f-e53916b0c288",
       "rows": [
        [
         "0",
         "More than 5 hours",
         "112",
         "24.2"
        ],
        [
         "1",
         "Between 2 and 3 hours",
         "96",
         "20.8"
        ],
        [
         "2",
         "Between 3 and 4 hours",
         "91",
         "19.7"
        ],
        [
         "3",
         "Between 1 and 2 hours",
         "69",
         "14.9"
        ],
        [
         "4",
         "Between 4 and 5 hours",
         "61",
         "13.2"
        ],
        [
         "5",
         "Less than an Hour",
         "33",
         "7.1"
        ]
       ],
       "shape": {
        "columns": 3,
        "rows": 6
       }
      },
      "text/html": [
       "<div>\n",
       "<style scoped>\n",
       "    .dataframe tbody tr th:only-of-type {\n",
       "        vertical-align: middle;\n",
       "    }\n",
       "\n",
       "    .dataframe tbody tr th {\n",
       "        vertical-align: top;\n",
       "    }\n",
       "\n",
       "    .dataframe thead th {\n",
       "        text-align: right;\n",
       "    }\n",
       "</style>\n",
       "<table border=\"1\" class=\"dataframe\">\n",
       "  <thead>\n",
       "    <tr style=\"text-align: right;\">\n",
       "      <th></th>\n",
       "      <th>time_on_sm</th>\n",
       "      <th>Count</th>\n",
       "      <th>Percentage</th>\n",
       "    </tr>\n",
       "  </thead>\n",
       "  <tbody>\n",
       "    <tr>\n",
       "      <th>0</th>\n",
       "      <td>More than 5 hours</td>\n",
       "      <td>112</td>\n",
       "      <td>24.2</td>\n",
       "    </tr>\n",
       "    <tr>\n",
       "      <th>1</th>\n",
       "      <td>Between 2 and 3 hours</td>\n",
       "      <td>96</td>\n",
       "      <td>20.8</td>\n",
       "    </tr>\n",
       "    <tr>\n",
       "      <th>2</th>\n",
       "      <td>Between 3 and 4 hours</td>\n",
       "      <td>91</td>\n",
       "      <td>19.7</td>\n",
       "    </tr>\n",
       "    <tr>\n",
       "      <th>3</th>\n",
       "      <td>Between 1 and 2 hours</td>\n",
       "      <td>69</td>\n",
       "      <td>14.9</td>\n",
       "    </tr>\n",
       "    <tr>\n",
       "      <th>4</th>\n",
       "      <td>Between 4 and 5 hours</td>\n",
       "      <td>61</td>\n",
       "      <td>13.2</td>\n",
       "    </tr>\n",
       "    <tr>\n",
       "      <th>5</th>\n",
       "      <td>Less than an Hour</td>\n",
       "      <td>33</td>\n",
       "      <td>7.1</td>\n",
       "    </tr>\n",
       "  </tbody>\n",
       "</table>\n",
       "</div>"
      ],
      "text/plain": [
       "              time_on_sm  Count  Percentage\n",
       "0      More than 5 hours    112        24.2\n",
       "1  Between 2 and 3 hours     96        20.8\n",
       "2  Between 3 and 4 hours     91        19.7\n",
       "3  Between 1 and 2 hours     69        14.9\n",
       "4  Between 4 and 5 hours     61        13.2\n",
       "5      Less than an Hour     33         7.1"
      ]
     },
     "metadata": {},
     "output_type": "display_data"
    },
    {
     "data": {
      "application/vnd.microsoft.datawrangler.viewer.v0+json": {
       "columns": [
        {
         "name": "index",
         "rawType": "int64",
         "type": "integer"
        },
        {
         "name": "total_platforms",
         "rawType": "int64",
         "type": "integer"
        },
        {
         "name": "Count",
         "rawType": "int64",
         "type": "integer"
        },
        {
         "name": "Percentage",
         "rawType": "float64",
         "type": "float"
        }
       ],
       "conversionMethod": "pd.DataFrame",
       "ref": "d22907c0-f969-4570-b7f3-3d4a7f873a40",
       "rows": [
        [
         "0",
         "4",
         "97",
         "21.0"
        ],
        [
         "1",
         "3",
         "76",
         "16.5"
        ],
        [
         "2",
         "5",
         "75",
         "16.2"
        ],
        [
         "3",
         "2",
         "57",
         "12.3"
        ],
        [
         "4",
         "6",
         "50",
         "10.8"
        ],
        [
         "5",
         "7",
         "42",
         "9.1"
        ],
        [
         "6",
         "1",
         "36",
         "7.8"
        ],
        [
         "7",
         "8",
         "18",
         "3.9"
        ],
        [
         "8",
         "9",
         "11",
         "2.4"
        ]
       ],
       "shape": {
        "columns": 3,
        "rows": 9
       }
      },
      "text/html": [
       "<div>\n",
       "<style scoped>\n",
       "    .dataframe tbody tr th:only-of-type {\n",
       "        vertical-align: middle;\n",
       "    }\n",
       "\n",
       "    .dataframe tbody tr th {\n",
       "        vertical-align: top;\n",
       "    }\n",
       "\n",
       "    .dataframe thead th {\n",
       "        text-align: right;\n",
       "    }\n",
       "</style>\n",
       "<table border=\"1\" class=\"dataframe\">\n",
       "  <thead>\n",
       "    <tr style=\"text-align: right;\">\n",
       "      <th></th>\n",
       "      <th>total_platforms</th>\n",
       "      <th>Count</th>\n",
       "      <th>Percentage</th>\n",
       "    </tr>\n",
       "  </thead>\n",
       "  <tbody>\n",
       "    <tr>\n",
       "      <th>0</th>\n",
       "      <td>4</td>\n",
       "      <td>97</td>\n",
       "      <td>21.0</td>\n",
       "    </tr>\n",
       "    <tr>\n",
       "      <th>1</th>\n",
       "      <td>3</td>\n",
       "      <td>76</td>\n",
       "      <td>16.5</td>\n",
       "    </tr>\n",
       "    <tr>\n",
       "      <th>2</th>\n",
       "      <td>5</td>\n",
       "      <td>75</td>\n",
       "      <td>16.2</td>\n",
       "    </tr>\n",
       "    <tr>\n",
       "      <th>3</th>\n",
       "      <td>2</td>\n",
       "      <td>57</td>\n",
       "      <td>12.3</td>\n",
       "    </tr>\n",
       "    <tr>\n",
       "      <th>4</th>\n",
       "      <td>6</td>\n",
       "      <td>50</td>\n",
       "      <td>10.8</td>\n",
       "    </tr>\n",
       "    <tr>\n",
       "      <th>5</th>\n",
       "      <td>7</td>\n",
       "      <td>42</td>\n",
       "      <td>9.1</td>\n",
       "    </tr>\n",
       "    <tr>\n",
       "      <th>6</th>\n",
       "      <td>1</td>\n",
       "      <td>36</td>\n",
       "      <td>7.8</td>\n",
       "    </tr>\n",
       "    <tr>\n",
       "      <th>7</th>\n",
       "      <td>8</td>\n",
       "      <td>18</td>\n",
       "      <td>3.9</td>\n",
       "    </tr>\n",
       "    <tr>\n",
       "      <th>8</th>\n",
       "      <td>9</td>\n",
       "      <td>11</td>\n",
       "      <td>2.4</td>\n",
       "    </tr>\n",
       "  </tbody>\n",
       "</table>\n",
       "</div>"
      ],
      "text/plain": [
       "   total_platforms  Count  Percentage\n",
       "0                4     97        21.0\n",
       "1                3     76        16.5\n",
       "2                5     75        16.2\n",
       "3                2     57        12.3\n",
       "4                6     50        10.8\n",
       "5                7     42         9.1\n",
       "6                1     36         7.8\n",
       "7                8     18         3.9\n",
       "8                9     11         2.4"
      ]
     },
     "metadata": {},
     "output_type": "display_data"
    }
   ],
   "source": [
    "# Count of demographics\n",
    "dem_var = [\n",
    "\t'gender', 'relationship', \n",
    "\t'occupation', 'organisation', 'sm_use',\n",
    "\t'time_on_sm', 'total_platforms'\n",
    "]\n",
    "\n",
    "for dem in dem_var:\n",
    "\tdisplay(\n",
    "\t\tsmmh_df[dem]\n",
    "\t\t.value_counts()\n",
    "\t\t.to_frame(name=\"Count\")\n",
    "\t\t.assign(Percentage = lambda x: ((x[\"Count\"] / x[\"Count\"].sum()) * 100).round(1))  # Calculate percentage\n",
    "\t\t.reset_index()\n",
    "\t\t.rename(columns={\"index\": dem})\n",
    "\t)"
   ]
  },
  {
   "cell_type": "code",
   "execution_count": 12,
   "metadata": {},
   "outputs": [
    {
     "data": {
      "application/vnd.microsoft.datawrangler.viewer.v0+json": {
       "columns": [
        {
         "name": "index",
         "rawType": "int64",
         "type": "integer"
        },
        {
         "name": "age",
         "rawType": "float64",
         "type": "float"
        },
        {
         "name": "gender",
         "rawType": "object",
         "type": "string"
        },
        {
         "name": "relationship",
         "rawType": "object",
         "type": "string"
        },
        {
         "name": "occupation",
         "rawType": "object",
         "type": "string"
        },
        {
         "name": "organisation",
         "rawType": "object",
         "type": "string"
        },
        {
         "name": "sm_use",
         "rawType": "object",
         "type": "string"
        },
        {
         "name": "time_on_sm",
         "rawType": "object",
         "type": "string"
        },
        {
         "name": "purposeless_sm_use",
         "rawType": "int64",
         "type": "integer"
        },
        {
         "name": "distracted_by_sm",
         "rawType": "int64",
         "type": "integer"
        },
        {
         "name": "restless_without_sm",
         "rawType": "int64",
         "type": "integer"
        },
        {
         "name": "easily_distracted",
         "rawType": "int64",
         "type": "integer"
        },
        {
         "name": "bothered_by_worries",
         "rawType": "int64",
         "type": "integer"
        },
        {
         "name": "difficult_to_concentrate",
         "rawType": "int64",
         "type": "integer"
        },
        {
         "name": "social_comparison",
         "rawType": "int64",
         "type": "integer"
        },
        {
         "name": "social_comparison_feelings",
         "rawType": "int64",
         "type": "integer"
        },
        {
         "name": "validation_seeking",
         "rawType": "int64",
         "type": "integer"
        },
        {
         "name": "depressed",
         "rawType": "int64",
         "type": "integer"
        },
        {
         "name": "interest_in_daily_activities",
         "rawType": "int64",
         "type": "integer"
        },
        {
         "name": "sleep_issues",
         "rawType": "int64",
         "type": "integer"
        },
        {
         "name": "Discord",
         "rawType": "int64",
         "type": "integer"
        },
        {
         "name": "Facebook",
         "rawType": "int64",
         "type": "integer"
        },
        {
         "name": "Instagram",
         "rawType": "int64",
         "type": "integer"
        },
        {
         "name": "Pinterest",
         "rawType": "int64",
         "type": "integer"
        },
        {
         "name": "Reddit",
         "rawType": "int64",
         "type": "integer"
        },
        {
         "name": "Snapchat",
         "rawType": "int64",
         "type": "integer"
        },
        {
         "name": "TikTok",
         "rawType": "int64",
         "type": "integer"
        },
        {
         "name": "Twitter",
         "rawType": "int64",
         "type": "integer"
        },
        {
         "name": "YouTube",
         "rawType": "int64",
         "type": "integer"
        },
        {
         "name": "total_platforms",
         "rawType": "int64",
         "type": "integer"
        }
       ],
       "conversionMethod": "pd.DataFrame",
       "ref": "c06c8d97-bdaf-4ad6-8dae-c362fb905629",
       "rows": [
        [
         "9",
         "20.0",
         "Male",
         "Single",
         "University Student",
         "University",
         "No",
         "Less than an Hour",
         "1",
         "1",
         "1",
         "1",
         "1",
         "1",
         "1",
         "1",
         "1",
         "1",
         "1",
         "1",
         "0",
         "0",
         "0",
         "1",
         "1",
         "0",
         "0",
         "0",
         "0",
         "2"
        ],
        [
         "54",
         "26.0",
         "Male",
         "In a relationship",
         "Salaried Worker",
         "Company",
         "No",
         "Between 1 and 2 hours",
         "4",
         "1",
         "1",
         "2",
         "2",
         "1",
         "1",
         "3",
         "1",
         "1",
         "3",
         "2",
         "1",
         "0",
         "0",
         "0",
         "1",
         "0",
         "0",
         "0",
         "1",
         "3"
        ],
        [
         "134",
         "50.0",
         "Male",
         "Divorced",
         "Salaried Worker",
         "Private",
         "No",
         "Between 1 and 2 hours",
         "2",
         "1",
         "1",
         "2",
         "2",
         "2",
         "1",
         "4",
         "1",
         "2",
         "2",
         "1",
         "0",
         "0",
         "1",
         "0",
         "0",
         "0",
         "0",
         "0",
         "1",
         "2"
        ]
       ],
       "shape": {
        "columns": 29,
        "rows": 3
       }
      },
      "text/html": [
       "<div>\n",
       "<style scoped>\n",
       "    .dataframe tbody tr th:only-of-type {\n",
       "        vertical-align: middle;\n",
       "    }\n",
       "\n",
       "    .dataframe tbody tr th {\n",
       "        vertical-align: top;\n",
       "    }\n",
       "\n",
       "    .dataframe thead th {\n",
       "        text-align: right;\n",
       "    }\n",
       "</style>\n",
       "<table border=\"1\" class=\"dataframe\">\n",
       "  <thead>\n",
       "    <tr style=\"text-align: right;\">\n",
       "      <th></th>\n",
       "      <th>age</th>\n",
       "      <th>gender</th>\n",
       "      <th>relationship</th>\n",
       "      <th>occupation</th>\n",
       "      <th>organisation</th>\n",
       "      <th>sm_use</th>\n",
       "      <th>time_on_sm</th>\n",
       "      <th>purposeless_sm_use</th>\n",
       "      <th>distracted_by_sm</th>\n",
       "      <th>restless_without_sm</th>\n",
       "      <th>...</th>\n",
       "      <th>Discord</th>\n",
       "      <th>Facebook</th>\n",
       "      <th>Instagram</th>\n",
       "      <th>Pinterest</th>\n",
       "      <th>Reddit</th>\n",
       "      <th>Snapchat</th>\n",
       "      <th>TikTok</th>\n",
       "      <th>Twitter</th>\n",
       "      <th>YouTube</th>\n",
       "      <th>total_platforms</th>\n",
       "    </tr>\n",
       "  </thead>\n",
       "  <tbody>\n",
       "    <tr>\n",
       "      <th>9</th>\n",
       "      <td>20.0</td>\n",
       "      <td>Male</td>\n",
       "      <td>Single</td>\n",
       "      <td>University Student</td>\n",
       "      <td>University</td>\n",
       "      <td>No</td>\n",
       "      <td>Less than an Hour</td>\n",
       "      <td>1</td>\n",
       "      <td>1</td>\n",
       "      <td>1</td>\n",
       "      <td>...</td>\n",
       "      <td>0</td>\n",
       "      <td>0</td>\n",
       "      <td>0</td>\n",
       "      <td>1</td>\n",
       "      <td>1</td>\n",
       "      <td>0</td>\n",
       "      <td>0</td>\n",
       "      <td>0</td>\n",
       "      <td>0</td>\n",
       "      <td>2</td>\n",
       "    </tr>\n",
       "    <tr>\n",
       "      <th>54</th>\n",
       "      <td>26.0</td>\n",
       "      <td>Male</td>\n",
       "      <td>In a relationship</td>\n",
       "      <td>Salaried Worker</td>\n",
       "      <td>Company</td>\n",
       "      <td>No</td>\n",
       "      <td>Between 1 and 2 hours</td>\n",
       "      <td>4</td>\n",
       "      <td>1</td>\n",
       "      <td>1</td>\n",
       "      <td>...</td>\n",
       "      <td>1</td>\n",
       "      <td>0</td>\n",
       "      <td>0</td>\n",
       "      <td>0</td>\n",
       "      <td>1</td>\n",
       "      <td>0</td>\n",
       "      <td>0</td>\n",
       "      <td>0</td>\n",
       "      <td>1</td>\n",
       "      <td>3</td>\n",
       "    </tr>\n",
       "    <tr>\n",
       "      <th>134</th>\n",
       "      <td>50.0</td>\n",
       "      <td>Male</td>\n",
       "      <td>Divorced</td>\n",
       "      <td>Salaried Worker</td>\n",
       "      <td>Private</td>\n",
       "      <td>No</td>\n",
       "      <td>Between 1 and 2 hours</td>\n",
       "      <td>2</td>\n",
       "      <td>1</td>\n",
       "      <td>1</td>\n",
       "      <td>...</td>\n",
       "      <td>0</td>\n",
       "      <td>0</td>\n",
       "      <td>1</td>\n",
       "      <td>0</td>\n",
       "      <td>0</td>\n",
       "      <td>0</td>\n",
       "      <td>0</td>\n",
       "      <td>0</td>\n",
       "      <td>1</td>\n",
       "      <td>2</td>\n",
       "    </tr>\n",
       "  </tbody>\n",
       "</table>\n",
       "<p>3 rows × 29 columns</p>\n",
       "</div>"
      ],
      "text/plain": [
       "      age gender       relationship          occupation organisation sm_use  \\\n",
       "9    20.0   Male             Single  University Student   University     No   \n",
       "54   26.0   Male  In a relationship     Salaried Worker      Company     No   \n",
       "134  50.0   Male           Divorced     Salaried Worker      Private     No   \n",
       "\n",
       "                time_on_sm  purposeless_sm_use  distracted_by_sm  \\\n",
       "9        Less than an Hour                   1                 1   \n",
       "54   Between 1 and 2 hours                   4                 1   \n",
       "134  Between 1 and 2 hours                   2                 1   \n",
       "\n",
       "     restless_without_sm  ...  Discord  Facebook  Instagram  Pinterest  \\\n",
       "9                      1  ...        0         0          0          1   \n",
       "54                     1  ...        1         0          0          0   \n",
       "134                    1  ...        0         0          1          0   \n",
       "\n",
       "     Reddit  Snapchat  TikTok  Twitter  YouTube  total_platforms  \n",
       "9         1         0       0        0        0                2  \n",
       "54        1         0       0        0        1                3  \n",
       "134       0         0       0        0        1                2  \n",
       "\n",
       "[3 rows x 29 columns]"
      ]
     },
     "execution_count": 12,
     "metadata": {},
     "output_type": "execute_result"
    }
   ],
   "source": [
    "smmh_df.loc[smmh_df['sm_use'] == 'No']"
   ]
  },
  {
   "cell_type": "markdown",
   "metadata": {},
   "source": [
    "Three participants noted that they don't use social media they also noted mulitple social media platforms they use. Despite this uncertainty, the participants will not be removed from the sample."
   ]
  },
  {
   "cell_type": "code",
   "execution_count": 13,
   "metadata": {},
   "outputs": [
    {
     "data": {
      "application/vnd.microsoft.datawrangler.viewer.v0+json": {
       "columns": [
        {
         "name": "index",
         "rawType": "int64",
         "type": "integer"
        },
        {
         "name": "gender",
         "rawType": "object",
         "type": "string"
        },
        {
         "name": "count",
         "rawType": "int64",
         "type": "integer"
        }
       ],
       "conversionMethod": "pd.DataFrame",
       "ref": "76e2e43a-9f57-4ada-9c78-756647d05920",
       "rows": [
        [
         "0",
         "Female",
         "258"
        ],
        [
         "1",
         "Male",
         "198"
        ],
        [
         "2",
         "Non-binary/Trans",
         "5"
        ]
       ],
       "shape": {
        "columns": 2,
        "rows": 3
       }
      },
      "text/html": [
       "<div>\n",
       "<style scoped>\n",
       "    .dataframe tbody tr th:only-of-type {\n",
       "        vertical-align: middle;\n",
       "    }\n",
       "\n",
       "    .dataframe tbody tr th {\n",
       "        vertical-align: top;\n",
       "    }\n",
       "\n",
       "    .dataframe thead th {\n",
       "        text-align: right;\n",
       "    }\n",
       "</style>\n",
       "<table border=\"1\" class=\"dataframe\">\n",
       "  <thead>\n",
       "    <tr style=\"text-align: right;\">\n",
       "      <th></th>\n",
       "      <th>gender</th>\n",
       "      <th>count</th>\n",
       "    </tr>\n",
       "  </thead>\n",
       "  <tbody>\n",
       "    <tr>\n",
       "      <th>0</th>\n",
       "      <td>Female</td>\n",
       "      <td>258</td>\n",
       "    </tr>\n",
       "    <tr>\n",
       "      <th>1</th>\n",
       "      <td>Male</td>\n",
       "      <td>198</td>\n",
       "    </tr>\n",
       "    <tr>\n",
       "      <th>2</th>\n",
       "      <td>Non-binary/Trans</td>\n",
       "      <td>5</td>\n",
       "    </tr>\n",
       "  </tbody>\n",
       "</table>\n",
       "</div>"
      ],
      "text/plain": [
       "             gender  count\n",
       "0            Female    258\n",
       "1              Male    198\n",
       "2  Non-binary/Trans      5"
      ]
     },
     "execution_count": 13,
     "metadata": {},
     "output_type": "execute_result"
    }
   ],
   "source": [
    "# Clean the responses for gender using regular expression\n",
    "smmh_df.replace(\n",
    "\t{\n",
    "\t\tr'(?i).*(non|nb|trans).*': 'Non-binary/Trans', \n",
    "\t\tr'(?i).*(\\?\\?\\?).*': np.nan\n",
    "\t},  \n",
    "\tregex = True,\n",
    "\tinplace = True\n",
    ")\n",
    "\n",
    "smmh_df['gender'].value_counts().reset_index()"
   ]
  },
  {
   "cell_type": "code",
   "execution_count": 38,
   "metadata": {},
   "outputs": [
    {
     "data": {
      "application/vnd.microsoft.datawrangler.viewer.v0+json": {
       "columns": [
        {
         "name": "index",
         "rawType": "int64",
         "type": "integer"
        },
        {
         "name": "Total platforms",
         "rawType": "int64",
         "type": "integer"
        },
        {
         "name": "Frequency",
         "rawType": "int64",
         "type": "integer"
        },
        {
         "name": "Percentage",
         "rawType": "float64",
         "type": "float"
        },
        {
         "name": "Cum_percentage",
         "rawType": "float64",
         "type": "float"
        }
       ],
       "conversionMethod": "pd.DataFrame",
       "ref": "88649e64-8bdd-4318-ab29-98ceb6c928eb",
       "rows": [
        [
         "6",
         "1",
         "36",
         "7.79",
         "7.79"
        ],
        [
         "3",
         "2",
         "57",
         "12.34",
         "20.13"
        ],
        [
         "1",
         "3",
         "76",
         "16.45",
         "36.58"
        ],
        [
         "0",
         "4",
         "97",
         "21.0",
         "57.58"
        ],
        [
         "2",
         "5",
         "75",
         "16.23",
         "73.81"
        ],
        [
         "4",
         "6",
         "50",
         "10.82",
         "84.63"
        ],
        [
         "5",
         "7",
         "42",
         "9.09",
         "93.72"
        ],
        [
         "7",
         "8",
         "18",
         "3.9",
         "97.62"
        ],
        [
         "8",
         "9",
         "11",
         "2.38",
         "100.0"
        ]
       ],
       "shape": {
        "columns": 4,
        "rows": 9
       }
      },
      "text/html": [
       "<div>\n",
       "<style scoped>\n",
       "    .dataframe tbody tr th:only-of-type {\n",
       "        vertical-align: middle;\n",
       "    }\n",
       "\n",
       "    .dataframe tbody tr th {\n",
       "        vertical-align: top;\n",
       "    }\n",
       "\n",
       "    .dataframe thead th {\n",
       "        text-align: right;\n",
       "    }\n",
       "</style>\n",
       "<table border=\"1\" class=\"dataframe\">\n",
       "  <thead>\n",
       "    <tr style=\"text-align: right;\">\n",
       "      <th></th>\n",
       "      <th>Total platforms</th>\n",
       "      <th>Frequency</th>\n",
       "      <th>Percentage</th>\n",
       "      <th>Cum_percentage</th>\n",
       "    </tr>\n",
       "  </thead>\n",
       "  <tbody>\n",
       "    <tr>\n",
       "      <th>6</th>\n",
       "      <td>1</td>\n",
       "      <td>36</td>\n",
       "      <td>7.79</td>\n",
       "      <td>7.79</td>\n",
       "    </tr>\n",
       "    <tr>\n",
       "      <th>3</th>\n",
       "      <td>2</td>\n",
       "      <td>57</td>\n",
       "      <td>12.34</td>\n",
       "      <td>20.13</td>\n",
       "    </tr>\n",
       "    <tr>\n",
       "      <th>1</th>\n",
       "      <td>3</td>\n",
       "      <td>76</td>\n",
       "      <td>16.45</td>\n",
       "      <td>36.58</td>\n",
       "    </tr>\n",
       "    <tr>\n",
       "      <th>0</th>\n",
       "      <td>4</td>\n",
       "      <td>97</td>\n",
       "      <td>21.00</td>\n",
       "      <td>57.58</td>\n",
       "    </tr>\n",
       "    <tr>\n",
       "      <th>2</th>\n",
       "      <td>5</td>\n",
       "      <td>75</td>\n",
       "      <td>16.23</td>\n",
       "      <td>73.81</td>\n",
       "    </tr>\n",
       "    <tr>\n",
       "      <th>4</th>\n",
       "      <td>6</td>\n",
       "      <td>50</td>\n",
       "      <td>10.82</td>\n",
       "      <td>84.63</td>\n",
       "    </tr>\n",
       "    <tr>\n",
       "      <th>5</th>\n",
       "      <td>7</td>\n",
       "      <td>42</td>\n",
       "      <td>9.09</td>\n",
       "      <td>93.72</td>\n",
       "    </tr>\n",
       "    <tr>\n",
       "      <th>7</th>\n",
       "      <td>8</td>\n",
       "      <td>18</td>\n",
       "      <td>3.90</td>\n",
       "      <td>97.62</td>\n",
       "    </tr>\n",
       "    <tr>\n",
       "      <th>8</th>\n",
       "      <td>9</td>\n",
       "      <td>11</td>\n",
       "      <td>2.38</td>\n",
       "      <td>100.00</td>\n",
       "    </tr>\n",
       "  </tbody>\n",
       "</table>\n",
       "</div>"
      ],
      "text/plain": [
       "   Total platforms  Frequency  Percentage  Cum_percentage\n",
       "6                1         36        7.79            7.79\n",
       "3                2         57       12.34           20.13\n",
       "1                3         76       16.45           36.58\n",
       "0                4         97       21.00           57.58\n",
       "2                5         75       16.23           73.81\n",
       "4                6         50       10.82           84.63\n",
       "5                7         42        9.09           93.72\n",
       "7                8         18        3.90           97.62\n",
       "8                9         11        2.38          100.00"
      ]
     },
     "metadata": {},
     "output_type": "display_data"
    },
    {
     "data": {
      "text/plain": [
       "Text(0, 0.5, 'Percentage (%)')"
      ]
     },
     "execution_count": 38,
     "metadata": {},
     "output_type": "execute_result"
    },
    {
     "data": {
      "image/png": "[encoded data removed]",
      "text/plain": [
       "<Figure size 500x300 with 1 Axes>"
      ]
     },
     "metadata": {},
     "output_type": "display_data"
    }
   ],
   "source": [
    "# Frequency of total platforms used by participants \n",
    "num_plat = smmh_df['total_platforms'].value_counts().reset_index()\n",
    "num_plat.columns = ['Total platforms', 'Frequency']\n",
    "num_plat.sort_values(by = 'Total platforms', ascending=True, inplace=True)\n",
    "num_plat['Percentage'] = ((num_plat['Frequency'] / num_plat['Frequency'].sum()) * 100).round(2)\n",
    "num_plat['Cum_percentage'] = num_plat['Percentage'].cumsum()\n",
    "\n",
    "display(num_plat)\n",
    "\n",
    "# Barplot\n",
    "plt.figure(figsize = (5, 3))\n",
    "sns.barplot(\n",
    "\tdata = num_plat,\n",
    "\tx = 'Total platforms',\n",
    "\ty = 'Percentage'\n",
    ")\n",
    "plt.xlabel('Total number of platforms')\n",
    "plt.ylabel('Percentage (%)')"
   ]
  },
  {
   "cell_type": "code",
   "execution_count": 42,
   "metadata": {},
   "outputs": [
    {
     "data": {
      "application/vnd.microsoft.datawrangler.viewer.v0+json": {
       "columns": [
        {
         "name": "index",
         "rawType": "int64",
         "type": "integer"
        },
        {
         "name": "time_on_sm",
         "rawType": "object",
         "type": "string"
        },
        {
         "name": "count",
         "rawType": "int64",
         "type": "integer"
        },
        {
         "name": "Percentage",
         "rawType": "float64",
         "type": "float"
        }
       ],
       "conversionMethod": "pd.DataFrame",
       "ref": "30ecf592-d901-44ca-b4c0-1a8e1ae0d8cd",
       "rows": [
        [
         "0",
         "More than 5 hours",
         "112",
         "24.24"
        ],
        [
         "1",
         "Between 2 and 3 hours",
         "96",
         "20.78"
        ],
        [
         "2",
         "Between 3 and 4 hours",
         "91",
         "19.7"
        ],
        [
         "3",
         "Between 1 and 2 hours",
         "69",
         "14.94"
        ],
        [
         "4",
         "Between 4 and 5 hours",
         "61",
         "13.2"
        ]
       ],
       "shape": {
        "columns": 3,
        "rows": 5
       }
      },
      "text/html": [
       "<div>\n",
       "<style scoped>\n",
       "    .dataframe tbody tr th:only-of-type {\n",
       "        vertical-align: middle;\n",
       "    }\n",
       "\n",
       "    .dataframe tbody tr th {\n",
       "        vertical-align: top;\n",
       "    }\n",
       "\n",
       "    .dataframe thead th {\n",
       "        text-align: right;\n",
       "    }\n",
       "</style>\n",
       "<table border=\"1\" class=\"dataframe\">\n",
       "  <thead>\n",
       "    <tr style=\"text-align: right;\">\n",
       "      <th></th>\n",
       "      <th>time_on_sm</th>\n",
       "      <th>count</th>\n",
       "      <th>Percentage</th>\n",
       "    </tr>\n",
       "  </thead>\n",
       "  <tbody>\n",
       "    <tr>\n",
       "      <th>0</th>\n",
       "      <td>More than 5 hours</td>\n",
       "      <td>112</td>\n",
       "      <td>24.24</td>\n",
       "    </tr>\n",
       "    <tr>\n",
       "      <th>1</th>\n",
       "      <td>Between 2 and 3 hours</td>\n",
       "      <td>96</td>\n",
       "      <td>20.78</td>\n",
       "    </tr>\n",
       "    <tr>\n",
       "      <th>2</th>\n",
       "      <td>Between 3 and 4 hours</td>\n",
       "      <td>91</td>\n",
       "      <td>19.70</td>\n",
       "    </tr>\n",
       "    <tr>\n",
       "      <th>3</th>\n",
       "      <td>Between 1 and 2 hours</td>\n",
       "      <td>69</td>\n",
       "      <td>14.94</td>\n",
       "    </tr>\n",
       "    <tr>\n",
       "      <th>4</th>\n",
       "      <td>Between 4 and 5 hours</td>\n",
       "      <td>61</td>\n",
       "      <td>13.20</td>\n",
       "    </tr>\n",
       "  </tbody>\n",
       "</table>\n",
       "</div>"
      ],
      "text/plain": [
       "              time_on_sm  count  Percentage\n",
       "0      More than 5 hours    112       24.24\n",
       "1  Between 2 and 3 hours     96       20.78\n",
       "2  Between 3 and 4 hours     91       19.70\n",
       "3  Between 1 and 2 hours     69       14.94\n",
       "4  Between 4 and 5 hours     61       13.20"
      ]
     },
     "execution_count": 42,
     "metadata": {},
     "output_type": "execute_result"
    }
   ],
   "source": [
    "avg_time.head()"
   ]
  },
  {
   "cell_type": "code",
   "execution_count": 47,
   "metadata": {},
   "outputs": [
    {
     "data": {
      "text/plain": [
       "([0, 1, 2, 3, 4, 5],\n",
       " [Text(0, 0, 'More than 5 hours'),\n",
       "  Text(1, 0, 'Between 2 and 3 hours'),\n",
       "  Text(2, 0, 'Between 3 and 4 hours'),\n",
       "  Text(3, 0, 'Between 1 and 2 hours'),\n",
       "  Text(4, 0, 'Between 4 and 5 hours'),\n",
       "  Text(5, 0, 'Less than an Hour')])"
      ]
     },
     "execution_count": 47,
     "metadata": {},
     "output_type": "execute_result"
    },
    {
     "data": {
      "image/png": "[encoded data removed]",
      "text/plain": [
       "<Figure size 1000x500 with 1 Axes>"
      ]
     },
     "metadata": {},
     "output_type": "display_data"
    }
   ],
   "source": [
    "# Frequency of average time on platforms \n",
    "avg_time = smmh_df.loc[ : ,'time_on_sm'].value_counts().reset_index()\n",
    "avg_time['Percentage'] = ((avg_time['count'] / avg_time['count'].sum()) * 100).round(2)\n",
    "\n",
    "\n",
    "plt.figure(figsize = (10, 5))\n",
    "sns.barplot(\n",
    "\tdata = avg_time,\n",
    "\tx = 'time_on_sm',\n",
    "\ty = 'Percentage'\n",
    ")\n",
    "plt.xlabel('Time')\n",
    "plt.ylabel('Percentage (%)')\n",
    "plt.xticks(rotation = 10)"
   ]
  },
  {
   "cell_type": "code",
   "execution_count": 16,
   "metadata": {},
   "outputs": [
    {
     "data": {
      "application/vnd.microsoft.datawrangler.viewer.v0+json": {
       "columns": [
        {
         "name": "index",
         "rawType": "int64",
         "type": "integer"
        },
        {
         "name": "0",
         "rawType": "object",
         "type": "string"
        }
       ],
       "conversionMethod": "pd.DataFrame",
       "ref": "0a167ad4-a77f-4ccd-854e-1e106f6855a8",
       "rows": [
        [
         "0",
         "age"
        ],
        [
         "1",
         "gender"
        ],
        [
         "2",
         "relationship"
        ],
        [
         "3",
         "occupation"
        ],
        [
         "4",
         "organisation"
        ],
        [
         "5",
         "sm_use"
        ],
        [
         "6",
         "time_on_sm"
        ],
        [
         "7",
         "purposeless_sm_use"
        ],
        [
         "8",
         "distracted_by_sm"
        ],
        [
         "9",
         "restless_without_sm"
        ],
        [
         "10",
         "easily_distracted"
        ],
        [
         "11",
         "bothered_by_worries"
        ],
        [
         "12",
         "difficult_to_concentrate"
        ],
        [
         "13",
         "social_comparison"
        ],
        [
         "14",
         "social_comparison_feelings"
        ],
        [
         "15",
         "validation_seeking"
        ],
        [
         "16",
         "depressed"
        ],
        [
         "17",
         "interest_in_daily_activities"
        ],
        [
         "18",
         "sleep_issues"
        ],
        [
         "19",
         "Discord"
        ],
        [
         "20",
         "Facebook"
        ],
        [
         "21",
         "Instagram"
        ],
        [
         "22",
         "Pinterest"
        ],
        [
         "23",
         "Reddit"
        ],
        [
         "24",
         "Snapchat"
        ],
        [
         "25",
         "TikTok"
        ],
        [
         "26",
         "Twitter"
        ],
        [
         "27",
         "YouTube"
        ],
        [
         "28",
         "total_platforms"
        ]
       ],
       "shape": {
        "columns": 1,
        "rows": 29
       }
      },
      "text/html": [
       "<div>\n",
       "<style scoped>\n",
       "    .dataframe tbody tr th:only-of-type {\n",
       "        vertical-align: middle;\n",
       "    }\n",
       "\n",
       "    .dataframe tbody tr th {\n",
       "        vertical-align: top;\n",
       "    }\n",
       "\n",
       "    .dataframe thead th {\n",
       "        text-align: right;\n",
       "    }\n",
       "</style>\n",
       "<table border=\"1\" class=\"dataframe\">\n",
       "  <thead>\n",
       "    <tr style=\"text-align: right;\">\n",
       "      <th></th>\n",
       "      <th>0</th>\n",
       "    </tr>\n",
       "  </thead>\n",
       "  <tbody>\n",
       "    <tr>\n",
       "      <th>0</th>\n",
       "      <td>age</td>\n",
       "    </tr>\n",
       "    <tr>\n",
       "      <th>1</th>\n",
       "      <td>gender</td>\n",
       "    </tr>\n",
       "    <tr>\n",
       "      <th>2</th>\n",
       "      <td>relationship</td>\n",
       "    </tr>\n",
       "    <tr>\n",
       "      <th>3</th>\n",
       "      <td>occupation</td>\n",
       "    </tr>\n",
       "    <tr>\n",
       "      <th>4</th>\n",
       "      <td>organisation</td>\n",
       "    </tr>\n",
       "    <tr>\n",
       "      <th>5</th>\n",
       "      <td>sm_use</td>\n",
       "    </tr>\n",
       "    <tr>\n",
       "      <th>6</th>\n",
       "      <td>time_on_sm</td>\n",
       "    </tr>\n",
       "    <tr>\n",
       "      <th>7</th>\n",
       "      <td>purposeless_sm_use</td>\n",
       "    </tr>\n",
       "    <tr>\n",
       "      <th>8</th>\n",
       "      <td>distracted_by_sm</td>\n",
       "    </tr>\n",
       "    <tr>\n",
       "      <th>9</th>\n",
       "      <td>restless_without_sm</td>\n",
       "    </tr>\n",
       "    <tr>\n",
       "      <th>10</th>\n",
       "      <td>easily_distracted</td>\n",
       "    </tr>\n",
       "    <tr>\n",
       "      <th>11</th>\n",
       "      <td>bothered_by_worries</td>\n",
       "    </tr>\n",
       "    <tr>\n",
       "      <th>12</th>\n",
       "      <td>difficult_to_concentrate</td>\n",
       "    </tr>\n",
       "    <tr>\n",
       "      <th>13</th>\n",
       "      <td>social_comparison</td>\n",
       "    </tr>\n",
       "    <tr>\n",
       "      <th>14</th>\n",
       "      <td>social_comparison_feelings</td>\n",
       "    </tr>\n",
       "    <tr>\n",
       "      <th>15</th>\n",
       "      <td>validation_seeking</td>\n",
       "    </tr>\n",
       "    <tr>\n",
       "      <th>16</th>\n",
       "      <td>depressed</td>\n",
       "    </tr>\n",
       "    <tr>\n",
       "      <th>17</th>\n",
       "      <td>interest_in_daily_activities</td>\n",
       "    </tr>\n",
       "    <tr>\n",
       "      <th>18</th>\n",
       "      <td>sleep_issues</td>\n",
       "    </tr>\n",
       "    <tr>\n",
       "      <th>19</th>\n",
       "      <td>Discord</td>\n",
       "    </tr>\n",
       "    <tr>\n",
       "      <th>20</th>\n",
       "      <td>Facebook</td>\n",
       "    </tr>\n",
       "    <tr>\n",
       "      <th>21</th>\n",
       "      <td>Instagram</td>\n",
       "    </tr>\n",
       "    <tr>\n",
       "      <th>22</th>\n",
       "      <td>Pinterest</td>\n",
       "    </tr>\n",
       "    <tr>\n",
       "      <th>23</th>\n",
       "      <td>Reddit</td>\n",
       "    </tr>\n",
       "    <tr>\n",
       "      <th>24</th>\n",
       "      <td>Snapchat</td>\n",
       "    </tr>\n",
       "    <tr>\n",
       "      <th>25</th>\n",
       "      <td>TikTok</td>\n",
       "    </tr>\n",
       "    <tr>\n",
       "      <th>26</th>\n",
       "      <td>Twitter</td>\n",
       "    </tr>\n",
       "    <tr>\n",
       "      <th>27</th>\n",
       "      <td>YouTube</td>\n",
       "    </tr>\n",
       "    <tr>\n",
       "      <th>28</th>\n",
       "      <td>total_platforms</td>\n",
       "    </tr>\n",
       "  </tbody>\n",
       "</table>\n",
       "</div>"
      ],
      "text/plain": [
       "                               0\n",
       "0                            age\n",
       "1                         gender\n",
       "2                   relationship\n",
       "3                     occupation\n",
       "4                   organisation\n",
       "5                         sm_use\n",
       "6                     time_on_sm\n",
       "7             purposeless_sm_use\n",
       "8               distracted_by_sm\n",
       "9            restless_without_sm\n",
       "10             easily_distracted\n",
       "11           bothered_by_worries\n",
       "12      difficult_to_concentrate\n",
       "13             social_comparison\n",
       "14    social_comparison_feelings\n",
       "15            validation_seeking\n",
       "16                     depressed\n",
       "17  interest_in_daily_activities\n",
       "18                  sleep_issues\n",
       "19                       Discord\n",
       "20                      Facebook\n",
       "21                     Instagram\n",
       "22                     Pinterest\n",
       "23                        Reddit\n",
       "24                      Snapchat\n",
       "25                        TikTok\n",
       "26                       Twitter\n",
       "27                       YouTube\n",
       "28               total_platforms"
      ]
     },
     "execution_count": 16,
     "metadata": {},
     "output_type": "execute_result"
    }
   ],
   "source": [
    "pd.DataFrame(smmh_df.columns)"
   ]
  },
  {
   "cell_type": "code",
   "execution_count": 17,
   "metadata": {},
   "outputs": [
    {
     "data": {
      "text/plain": [
       "['Discord',\n",
       " 'Facebook',\n",
       " 'Instagram',\n",
       " 'Pinterest',\n",
       " 'Reddit',\n",
       " 'Snapchat',\n",
       " 'TikTok',\n",
       " 'Twitter',\n",
       " 'YouTube']"
      ]
     },
     "execution_count": 17,
     "metadata": {},
     "output_type": "execute_result"
    }
   ],
   "source": [
    "smp_cat"
   ]
  },
  {
   "cell_type": "code",
   "execution_count": 18,
   "metadata": {},
   "outputs": [
    {
     "name": "stdout",
     "output_type": "stream",
     "text": [
      "Discord: 187\n",
      "Facebook: 400\n",
      "Instagram: 343\n",
      "Pinterest: 138\n",
      "Reddit: 120\n",
      "Snapchat: 176\n",
      "TikTok: 90\n",
      "Twitter: 127\n",
      "YouTube: 397\n"
     ]
    },
    {
     "data": {
      "application/vnd.microsoft.datawrangler.viewer.v0+json": {
       "columns": [
        {
         "name": "index",
         "rawType": "int64",
         "type": "integer"
        },
        {
         "name": "Platform",
         "rawType": "object",
         "type": "string"
        },
        {
         "name": "Frequency",
         "rawType": "int64",
         "type": "integer"
        },
        {
         "name": "Proportion",
         "rawType": "float64",
         "type": "float"
        }
       ],
       "conversionMethod": "pd.DataFrame",
       "ref": "873c76c4-a3fc-48a1-9fd8-fa92e427afb8",
       "rows": [
        [
         "1",
         "Facebook",
         "400",
         "20.22"
        ],
        [
         "8",
         "YouTube",
         "397",
         "20.07"
        ],
        [
         "2",
         "Instagram",
         "343",
         "17.34"
        ],
        [
         "0",
         "Discord",
         "187",
         "9.45"
        ],
        [
         "5",
         "Snapchat",
         "176",
         "8.9"
        ],
        [
         "3",
         "Pinterest",
         "138",
         "6.98"
        ],
        [
         "7",
         "Twitter",
         "127",
         "6.42"
        ],
        [
         "4",
         "Reddit",
         "120",
         "6.07"
        ],
        [
         "6",
         "TikTok",
         "90",
         "4.55"
        ]
       ],
       "shape": {
        "columns": 3,
        "rows": 9
       }
      },
      "text/html": [
       "<div>\n",
       "<style scoped>\n",
       "    .dataframe tbody tr th:only-of-type {\n",
       "        vertical-align: middle;\n",
       "    }\n",
       "\n",
       "    .dataframe tbody tr th {\n",
       "        vertical-align: top;\n",
       "    }\n",
       "\n",
       "    .dataframe thead th {\n",
       "        text-align: right;\n",
       "    }\n",
       "</style>\n",
       "<table border=\"1\" class=\"dataframe\">\n",
       "  <thead>\n",
       "    <tr style=\"text-align: right;\">\n",
       "      <th></th>\n",
       "      <th>Platform</th>\n",
       "      <th>Frequency</th>\n",
       "      <th>Proportion</th>\n",
       "    </tr>\n",
       "  </thead>\n",
       "  <tbody>\n",
       "    <tr>\n",
       "      <th>1</th>\n",
       "      <td>Facebook</td>\n",
       "      <td>400</td>\n",
       "      <td>20.22</td>\n",
       "    </tr>\n",
       "    <tr>\n",
       "      <th>8</th>\n",
       "      <td>YouTube</td>\n",
       "      <td>397</td>\n",
       "      <td>20.07</td>\n",
       "    </tr>\n",
       "    <tr>\n",
       "      <th>2</th>\n",
       "      <td>Instagram</td>\n",
       "      <td>343</td>\n",
       "      <td>17.34</td>\n",
       "    </tr>\n",
       "    <tr>\n",
       "      <th>0</th>\n",
       "      <td>Discord</td>\n",
       "      <td>187</td>\n",
       "      <td>9.45</td>\n",
       "    </tr>\n",
       "    <tr>\n",
       "      <th>5</th>\n",
       "      <td>Snapchat</td>\n",
       "      <td>176</td>\n",
       "      <td>8.90</td>\n",
       "    </tr>\n",
       "    <tr>\n",
       "      <th>3</th>\n",
       "      <td>Pinterest</td>\n",
       "      <td>138</td>\n",
       "      <td>6.98</td>\n",
       "    </tr>\n",
       "    <tr>\n",
       "      <th>7</th>\n",
       "      <td>Twitter</td>\n",
       "      <td>127</td>\n",
       "      <td>6.42</td>\n",
       "    </tr>\n",
       "    <tr>\n",
       "      <th>4</th>\n",
       "      <td>Reddit</td>\n",
       "      <td>120</td>\n",
       "      <td>6.07</td>\n",
       "    </tr>\n",
       "    <tr>\n",
       "      <th>6</th>\n",
       "      <td>TikTok</td>\n",
       "      <td>90</td>\n",
       "      <td>4.55</td>\n",
       "    </tr>\n",
       "  </tbody>\n",
       "</table>\n",
       "</div>"
      ],
      "text/plain": [
       "    Platform  Frequency  Proportion\n",
       "1   Facebook        400       20.22\n",
       "8    YouTube        397       20.07\n",
       "2  Instagram        343       17.34\n",
       "0    Discord        187        9.45\n",
       "5   Snapchat        176        8.90\n",
       "3  Pinterest        138        6.98\n",
       "7    Twitter        127        6.42\n",
       "4     Reddit        120        6.07\n",
       "6     TikTok         90        4.55"
      ]
     },
     "execution_count": 18,
     "metadata": {},
     "output_type": "execute_result"
    }
   ],
   "source": [
    "# Calculate frequency of use for each platform\n",
    "platform_freq = {}\n",
    "for cat in smp_cat:\n",
    "\tprint(f'{cat}:', smmh_df[f'{cat}'].sum())\n",
    "\tplatform_freq[f'{cat}'] = smmh_df[f'{cat}'].sum()\n",
    "\n",
    "# Convert to dataframe\n",
    "platfreq_df = pd.DataFrame().from_dict(platform_freq, orient='index').reset_index()\n",
    "platfreq_df.columns = ['Platform', 'Frequency']\n",
    "\n",
    "# Include `Proportion` column\n",
    "platfreq_df['Proportion'] = ((platfreq_df['Frequency'] / platfreq_df['Frequency'].sum()) * 100).round(2)\n",
    "platfreq_df.sort_values(by='Proportion', ascending=False)\t# sort `Proportion` column in descending order"
   ]
  },
  {
   "cell_type": "code",
   "execution_count": 19,
   "metadata": {},
   "outputs": [
    {
     "data": {
      "text/plain": [
       "Text(0.5, 1.0, 'Distribution of platforms')"
      ]
     },
     "execution_count": 19,
     "metadata": {},
     "output_type": "execute_result"
    },
    {
     "data": {
      "image/png": "[encoded data removed]",
      "text/plain": [
       "<Figure size 1000x450 with 1 Axes>"
      ]
     },
     "metadata": {},
     "output_type": "display_data"
    }
   ],
   "source": [
    "plt.figure(figsize=(10, 4.5))\n",
    "sns.barplot(\n",
    "    data = platfreq_df,\n",
    "    x = \"Platform\",\n",
    "    y = \"Frequency\"\n",
    ")\n",
    "plt.title('Distribution of platforms')"
   ]
  },
  {
   "cell_type": "markdown",
   "metadata": {},
   "source": [
    "# PCA"
   ]
  },
  {
   "cell_type": "code",
   "execution_count": 20,
   "metadata": {},
   "outputs": [],
   "source": [
    "from sklearn.decomposition import PCA\n",
    "from sklearn.preprocessing import StandardScaler"
   ]
  },
  {
   "cell_type": "code",
   "execution_count": 21,
   "metadata": {},
   "outputs": [
    {
     "data": {
      "text/plain": [
       "np.int64(0)"
      ]
     },
     "execution_count": 21,
     "metadata": {},
     "output_type": "execute_result"
    }
   ],
   "source": [
    "# Select key columns\n",
    "qcols = smmh_df.columns[7:19]\n",
    "qcols.isna().sum()\t# check for missing values"
   ]
  },
  {
   "cell_type": "code",
   "execution_count": 22,
   "metadata": {},
   "outputs": [],
   "source": [
    "# Identify columns of interest\n",
    "qcols = smmh_df.columns[7:19].tolist()\t# create a list of interested columns\n",
    "qcols_df = smmh_df[qcols]\t# select columns of interest from the datafram\n",
    "\n",
    "# Preprocessing column data\n",
    "qcols_df = qcols_df.apply(pd.to_numeric, errors = 'coerce')\t# convert interested columns to numeric\n",
    "qcols_df = qcols_df.fillna(qcols_df.mean())\t# fill missing values using the column mean\n",
    "\n",
    "# Standardise the data\n",
    "scaler = StandardScaler()\n",
    "qcols_scaled = scaler.fit_transform(qcols_df)"
   ]
  },
  {
   "cell_type": "code",
   "execution_count": 23,
   "metadata": {},
   "outputs": [
    {
     "name": "stdout",
     "output_type": "stream",
     "text": [
      "Explained Variance by Component: [0.3998241  0.09469076 0.09373704 0.07836473 0.0639365 ]\n"
     ]
    },
    {
     "data": {
      "image/png": "[encoded data removed]",
      "text/plain": [
       "<Figure size 800x500 with 1 Axes>"
      ]
     },
     "metadata": {},
     "output_type": "display_data"
    },
    {
     "name": "stdout",
     "output_type": "stream",
     "text": [
      "                                   PC1       PC2       PC3       PC4       PC5\n",
      "purposeless_sm_use            0.248320 -0.422053 -0.046097  0.020812  0.683793\n",
      "distracted_by_sm              0.331475 -0.317483  0.013151 -0.227010  0.043253\n",
      "restless_without_sm           0.303831 -0.289560  0.108470 -0.317056 -0.136623\n",
      "easily_distracted             0.351307 -0.206733 -0.197502 -0.147442 -0.250594\n",
      "bothered_by_worries           0.323839  0.243204 -0.159507  0.143218 -0.258994\n",
      "difficult_to_concentrate      0.362138 -0.006656 -0.135934  0.017672 -0.350537\n",
      "social_comparison             0.262942  0.476283  0.220525 -0.237266  0.060078\n",
      "social_comparison_feelings    0.054895 -0.370298  0.664541  0.452917 -0.339930\n",
      "validation_seeking            0.198560  0.308437  0.617464 -0.147058  0.259976\n",
      "depressed                     0.330563  0.250603 -0.087169  0.194101  0.027384\n",
      "interest_in_daily_activities  0.324219  0.085627 -0.029874  0.035272  0.149091\n",
      "sleep_issues                  0.225272  0.077883 -0.151692  0.694962  0.222289\n"
     ]
    }
   ],
   "source": [
    "# Apply PCA with five components\n",
    "n = 5\n",
    "pca = PCA(n_components=n)\n",
    "principal_components = pca.fit_transform(qcols_scaled)\n",
    "\n",
    "# Create a DataFrame with principal components\n",
    "pca_df = pd.DataFrame(principal_components, columns=[f'PC{i+1}' for i in range(n)])\n",
    "\n",
    "# Explained variance ratio (i.e., determine how much variance each component captures)\n",
    "explained_variance = pca.explained_variance_ratio_\n",
    "print(\"Explained Variance by Component:\", explained_variance)\n",
    "\n",
    "# Scree Plot (Elbow Method)\n",
    "plt.figure(figsize=(8, 5))\n",
    "plt.plot(range(1, len(explained_variance) + 1), explained_variance, marker='o', linestyle='--')\n",
    "plt.xlabel('Principal Components')\n",
    "plt.ylabel('Variance Explained')\n",
    "plt.title('Scree Plot for PCA')\n",
    "plt.show()\n",
    "\n",
    "# Loadings to interpret groups of questions\n",
    "loadings = pd.DataFrame(pca.components_, columns=qcols, index=[f'PC{i+1}' for i in range(n)])\n",
    "print(loadings.T)  # transpose to see variables per component"
   ]
  },
  {
   "cell_type": "code",
   "execution_count": 24,
   "metadata": {},
   "outputs": [
    {
     "name": "stdout",
     "output_type": "stream",
     "text": [
      "Explained Variance by Component: [0.3998241  0.09469076]\n",
      "                                   PC1       PC2\n",
      "purposeless_sm_use            0.248320 -0.422053\n",
      "distracted_by_sm              0.331475 -0.317483\n",
      "restless_without_sm           0.303831 -0.289560\n",
      "easily_distracted             0.351307 -0.206733\n",
      "bothered_by_worries           0.323839  0.243204\n",
      "difficult_to_concentrate      0.362138 -0.006656\n",
      "social_comparison             0.262942  0.476283\n",
      "social_comparison_feelings    0.054895 -0.370298\n",
      "validation_seeking            0.198560  0.308437\n",
      "depressed                     0.330563  0.250603\n",
      "interest_in_daily_activities  0.324219  0.085627\n",
      "sleep_issues                  0.225272  0.077883\n"
     ]
    }
   ],
   "source": [
    "# Apply PCA with two components\n",
    "n = 2\n",
    "pca = PCA(n_components=n)\n",
    "principal_components = pca.fit_transform(qcols_scaled)\n",
    "\n",
    "# Create a DataFrame with principal components\n",
    "pca_df = pd.DataFrame(principal_components, columns=[f'PC{i+1}' for i in range(n)])\n",
    "\n",
    "# Explained variance ratio (i.e., determine how much variance each component captures)\n",
    "explained_variance = pca.explained_variance_ratio_\n",
    "print(\"Explained Variance by Component:\", explained_variance)\n",
    "\n",
    "# Loadings to interpret groups of questions\n",
    "loadings = pd.DataFrame(pca.components_, columns=qcols, index=[f'PC{i+1}' for i in range(n)])\n",
    "print(loadings.T)  # transpose to see variables per component"
   ]
  },
  {
   "cell_type": "markdown",
   "metadata": {},
   "source": [
    "# Incorporating Principal Components"
   ]
  },
  {
   "cell_type": "code",
   "execution_count": 25,
   "metadata": {},
   "outputs": [
    {
     "data": {
      "application/vnd.microsoft.datawrangler.viewer.v0+json": {
       "columns": [
        {
         "name": "index",
         "rawType": "int64",
         "type": "integer"
        },
        {
         "name": "Column Name",
         "rawType": "object",
         "type": "string"
        }
       ],
       "conversionMethod": "pd.DataFrame",
       "ref": "d38db6e3-2116-418a-a17c-35a5feb4dd36",
       "rows": [
        [
         "0",
         "age"
        ],
        [
         "1",
         "gender"
        ],
        [
         "2",
         "relationship"
        ],
        [
         "3",
         "occupation"
        ],
        [
         "4",
         "organisation"
        ],
        [
         "5",
         "sm_use"
        ],
        [
         "6",
         "time_on_sm"
        ],
        [
         "7",
         "purposeless_sm_use"
        ],
        [
         "8",
         "distracted_by_sm"
        ],
        [
         "9",
         "restless_without_sm"
        ],
        [
         "10",
         "easily_distracted"
        ],
        [
         "11",
         "bothered_by_worries"
        ],
        [
         "12",
         "difficult_to_concentrate"
        ],
        [
         "13",
         "social_comparison"
        ],
        [
         "14",
         "social_comparison_feelings"
        ],
        [
         "15",
         "validation_seeking"
        ],
        [
         "16",
         "depressed"
        ],
        [
         "17",
         "interest_in_daily_activities"
        ],
        [
         "18",
         "sleep_issues"
        ],
        [
         "19",
         "Discord"
        ],
        [
         "20",
         "Facebook"
        ],
        [
         "21",
         "Instagram"
        ],
        [
         "22",
         "Pinterest"
        ],
        [
         "23",
         "Reddit"
        ],
        [
         "24",
         "Snapchat"
        ],
        [
         "25",
         "TikTok"
        ],
        [
         "26",
         "Twitter"
        ],
        [
         "27",
         "YouTube"
        ],
        [
         "28",
         "total_platforms"
        ]
       ],
       "shape": {
        "columns": 1,
        "rows": 29
       }
      },
      "text/html": [
       "<div>\n",
       "<style scoped>\n",
       "    .dataframe tbody tr th:only-of-type {\n",
       "        vertical-align: middle;\n",
       "    }\n",
       "\n",
       "    .dataframe tbody tr th {\n",
       "        vertical-align: top;\n",
       "    }\n",
       "\n",
       "    .dataframe thead th {\n",
       "        text-align: right;\n",
       "    }\n",
       "</style>\n",
       "<table border=\"1\" class=\"dataframe\">\n",
       "  <thead>\n",
       "    <tr style=\"text-align: right;\">\n",
       "      <th></th>\n",
       "      <th>Column Name</th>\n",
       "    </tr>\n",
       "  </thead>\n",
       "  <tbody>\n",
       "    <tr>\n",
       "      <th>0</th>\n",
       "      <td>age</td>\n",
       "    </tr>\n",
       "    <tr>\n",
       "      <th>1</th>\n",
       "      <td>gender</td>\n",
       "    </tr>\n",
       "    <tr>\n",
       "      <th>2</th>\n",
       "      <td>relationship</td>\n",
       "    </tr>\n",
       "    <tr>\n",
       "      <th>3</th>\n",
       "      <td>occupation</td>\n",
       "    </tr>\n",
       "    <tr>\n",
       "      <th>4</th>\n",
       "      <td>organisation</td>\n",
       "    </tr>\n",
       "    <tr>\n",
       "      <th>5</th>\n",
       "      <td>sm_use</td>\n",
       "    </tr>\n",
       "    <tr>\n",
       "      <th>6</th>\n",
       "      <td>time_on_sm</td>\n",
       "    </tr>\n",
       "    <tr>\n",
       "      <th>7</th>\n",
       "      <td>purposeless_sm_use</td>\n",
       "    </tr>\n",
       "    <tr>\n",
       "      <th>8</th>\n",
       "      <td>distracted_by_sm</td>\n",
       "    </tr>\n",
       "    <tr>\n",
       "      <th>9</th>\n",
       "      <td>restless_without_sm</td>\n",
       "    </tr>\n",
       "    <tr>\n",
       "      <th>10</th>\n",
       "      <td>easily_distracted</td>\n",
       "    </tr>\n",
       "    <tr>\n",
       "      <th>11</th>\n",
       "      <td>bothered_by_worries</td>\n",
       "    </tr>\n",
       "    <tr>\n",
       "      <th>12</th>\n",
       "      <td>difficult_to_concentrate</td>\n",
       "    </tr>\n",
       "    <tr>\n",
       "      <th>13</th>\n",
       "      <td>social_comparison</td>\n",
       "    </tr>\n",
       "    <tr>\n",
       "      <th>14</th>\n",
       "      <td>social_comparison_feelings</td>\n",
       "    </tr>\n",
       "    <tr>\n",
       "      <th>15</th>\n",
       "      <td>validation_seeking</td>\n",
       "    </tr>\n",
       "    <tr>\n",
       "      <th>16</th>\n",
       "      <td>depressed</td>\n",
       "    </tr>\n",
       "    <tr>\n",
       "      <th>17</th>\n",
       "      <td>interest_in_daily_activities</td>\n",
       "    </tr>\n",
       "    <tr>\n",
       "      <th>18</th>\n",
       "      <td>sleep_issues</td>\n",
       "    </tr>\n",
       "    <tr>\n",
       "      <th>19</th>\n",
       "      <td>Discord</td>\n",
       "    </tr>\n",
       "    <tr>\n",
       "      <th>20</th>\n",
       "      <td>Facebook</td>\n",
       "    </tr>\n",
       "    <tr>\n",
       "      <th>21</th>\n",
       "      <td>Instagram</td>\n",
       "    </tr>\n",
       "    <tr>\n",
       "      <th>22</th>\n",
       "      <td>Pinterest</td>\n",
       "    </tr>\n",
       "    <tr>\n",
       "      <th>23</th>\n",
       "      <td>Reddit</td>\n",
       "    </tr>\n",
       "    <tr>\n",
       "      <th>24</th>\n",
       "      <td>Snapchat</td>\n",
       "    </tr>\n",
       "    <tr>\n",
       "      <th>25</th>\n",
       "      <td>TikTok</td>\n",
       "    </tr>\n",
       "    <tr>\n",
       "      <th>26</th>\n",
       "      <td>Twitter</td>\n",
       "    </tr>\n",
       "    <tr>\n",
       "      <th>27</th>\n",
       "      <td>YouTube</td>\n",
       "    </tr>\n",
       "    <tr>\n",
       "      <th>28</th>\n",
       "      <td>total_platforms</td>\n",
       "    </tr>\n",
       "  </tbody>\n",
       "</table>\n",
       "</div>"
      ],
      "text/plain": [
       "                     Column Name\n",
       "0                            age\n",
       "1                         gender\n",
       "2                   relationship\n",
       "3                     occupation\n",
       "4                   organisation\n",
       "5                         sm_use\n",
       "6                     time_on_sm\n",
       "7             purposeless_sm_use\n",
       "8               distracted_by_sm\n",
       "9            restless_without_sm\n",
       "10             easily_distracted\n",
       "11           bothered_by_worries\n",
       "12      difficult_to_concentrate\n",
       "13             social_comparison\n",
       "14    social_comparison_feelings\n",
       "15            validation_seeking\n",
       "16                     depressed\n",
       "17  interest_in_daily_activities\n",
       "18                  sleep_issues\n",
       "19                       Discord\n",
       "20                      Facebook\n",
       "21                     Instagram\n",
       "22                     Pinterest\n",
       "23                        Reddit\n",
       "24                      Snapchat\n",
       "25                        TikTok\n",
       "26                       Twitter\n",
       "27                       YouTube\n",
       "28               total_platforms"
      ]
     },
     "execution_count": 25,
     "metadata": {},
     "output_type": "execute_result"
    }
   ],
   "source": [
    "pd.DataFrame({'Column Name': smmh_df.columns})"
   ]
  },
  {
   "cell_type": "code",
   "execution_count": 26,
   "metadata": {},
   "outputs": [],
   "source": [
    "smmh_df_new = smmh_df.copy()\n",
    "\n",
    "total_mh = smmh_df_new.columns[np.r_[7: 19]]\n",
    "cog_emo = smmh_df_new.columns[np.r_[8:13, 16:19]]\n",
    "comp_val = smmh_df_new.columns[[7, 13, 14, 15]]\n",
    "\n",
    "smmh_df_new['TotalMH'] = smmh_df_new[total_mh].sum(axis = 1)\n",
    "smmh_df_new['CompVal'] = smmh_df_new[comp_val].sum(axis = 1)\n",
    "smmh_df_new['CogEmo'] = smmh_df_new[cog_emo].sum(axis = 1)"
   ]
  },
  {
   "cell_type": "code",
   "execution_count": 27,
   "metadata": {},
   "outputs": [
    {
     "data": {
      "application/vnd.microsoft.datawrangler.viewer.v0+json": {
       "columns": [
        {
         "name": "index",
         "rawType": "int64",
         "type": "integer"
        },
        {
         "name": "age",
         "rawType": "float64",
         "type": "float"
        },
        {
         "name": "gender",
         "rawType": "object",
         "type": "unknown"
        },
        {
         "name": "relationship",
         "rawType": "object",
         "type": "string"
        },
        {
         "name": "occupation",
         "rawType": "object",
         "type": "string"
        },
        {
         "name": "organisation",
         "rawType": "object",
         "type": "unknown"
        },
        {
         "name": "sm_use",
         "rawType": "object",
         "type": "string"
        },
        {
         "name": "time_on_sm",
         "rawType": "object",
         "type": "string"
        },
        {
         "name": "purposeless_sm_use",
         "rawType": "int64",
         "type": "integer"
        },
        {
         "name": "distracted_by_sm",
         "rawType": "int64",
         "type": "integer"
        },
        {
         "name": "restless_without_sm",
         "rawType": "int64",
         "type": "integer"
        },
        {
         "name": "easily_distracted",
         "rawType": "int64",
         "type": "integer"
        },
        {
         "name": "bothered_by_worries",
         "rawType": "int64",
         "type": "integer"
        },
        {
         "name": "difficult_to_concentrate",
         "rawType": "int64",
         "type": "integer"
        },
        {
         "name": "social_comparison",
         "rawType": "int64",
         "type": "integer"
        },
        {
         "name": "social_comparison_feelings",
         "rawType": "int64",
         "type": "integer"
        },
        {
         "name": "validation_seeking",
         "rawType": "int64",
         "type": "integer"
        },
        {
         "name": "depressed",
         "rawType": "int64",
         "type": "integer"
        },
        {
         "name": "interest_in_daily_activities",
         "rawType": "int64",
         "type": "integer"
        },
        {
         "name": "sleep_issues",
         "rawType": "int64",
         "type": "integer"
        },
        {
         "name": "Discord",
         "rawType": "int64",
         "type": "integer"
        },
        {
         "name": "Facebook",
         "rawType": "int64",
         "type": "integer"
        },
        {
         "name": "Instagram",
         "rawType": "int64",
         "type": "integer"
        },
        {
         "name": "Pinterest",
         "rawType": "int64",
         "type": "integer"
        },
        {
         "name": "Reddit",
         "rawType": "int64",
         "type": "integer"
        },
        {
         "name": "Snapchat",
         "rawType": "int64",
         "type": "integer"
        },
        {
         "name": "TikTok",
         "rawType": "int64",
         "type": "integer"
        },
        {
         "name": "Twitter",
         "rawType": "int64",
         "type": "integer"
        },
        {
         "name": "YouTube",
         "rawType": "int64",
         "type": "integer"
        },
        {
         "name": "total_platforms",
         "rawType": "int64",
         "type": "integer"
        },
        {
         "name": "TotalMH",
         "rawType": "int64",
         "type": "integer"
        },
        {
         "name": "CompVal",
         "rawType": "int64",
         "type": "integer"
        },
        {
         "name": "CogEmo",
         "rawType": "int64",
         "type": "integer"
        }
       ],
       "conversionMethod": "pd.DataFrame",
       "ref": "05d16f59-cc2d-4032-84ba-0480c0f60b22",
       "rows": [
        [
         "0",
         "21.0",
         "Male",
         "In a relationship",
         "University Student",
         "University",
         "Yes",
         "Between 2 and 3 hours",
         "5",
         "3",
         "2",
         "5",
         "2",
         "5",
         "2",
         "3",
         "2",
         "5",
         "4",
         "5",
         "1",
         "1",
         "1",
         "0",
         "1",
         "0",
         "0",
         "1",
         "1",
         "6",
         "43",
         "12",
         "31"
        ],
        [
         "1",
         "21.0",
         "Female",
         "Single",
         "University Student",
         "University",
         "Yes",
         "More than 5 hours",
         "4",
         "3",
         "2",
         "4",
         "5",
         "4",
         "5",
         "1",
         "1",
         "5",
         "4",
         "5",
         "1",
         "1",
         "1",
         "0",
         "1",
         "0",
         "0",
         "1",
         "1",
         "6",
         "43",
         "11",
         "32"
        ],
        [
         "2",
         "21.0",
         "Female",
         "Single",
         "University Student",
         "University",
         "Yes",
         "Between 3 and 4 hours",
         "3",
         "2",
         "1",
         "2",
         "5",
         "4",
         "3",
         "3",
         "1",
         "4",
         "2",
         "5",
         "0",
         "1",
         "1",
         "1",
         "0",
         "0",
         "0",
         "0",
         "1",
         "4",
         "35",
         "10",
         "25"
        ],
        [
         "3",
         "21.0",
         "Female",
         "Single",
         "University Student",
         "University",
         "Yes",
         "More than 5 hours",
         "4",
         "2",
         "1",
         "3",
         "5",
         "3",
         "5",
         "1",
         "2",
         "4",
         "3",
         "2",
         "0",
         "1",
         "1",
         "0",
         "0",
         "0",
         "0",
         "0",
         "0",
         "2",
         "35",
         "12",
         "23"
        ],
        [
         "4",
         "21.0",
         "Female",
         "Single",
         "University Student",
         "University",
         "Yes",
         "Between 2 and 3 hours",
         "3",
         "5",
         "4",
         "4",
         "5",
         "5",
         "3",
         "3",
         "3",
         "4",
         "4",
         "1",
         "0",
         "1",
         "1",
         "0",
         "0",
         "0",
         "0",
         "0",
         "1",
         "3",
         "44",
         "12",
         "32"
        ],
        [
         "5",
         "22.0",
         "Female",
         "Single",
         "University Student",
         "University",
         "Yes",
         "Between 2 and 3 hours",
         "4",
         "4",
         "2",
         "3",
         "4",
         "3",
         "4",
         "4",
         "3",
         "3",
         "2",
         "4",
         "1",
         "1",
         "1",
         "1",
         "0",
         "0",
         "1",
         "1",
         "1",
         "7",
         "40",
         "15",
         "25"
        ],
        [
         "6",
         "21.0",
         "Female",
         "Married",
         "University Student",
         "University",
         "Yes",
         "Between 3 and 4 hours",
         "4",
         "3",
         "2",
         "2",
         "4",
         "3",
         "5",
         "3",
         "4",
         "5",
         "5",
         "3",
         "0",
         "1",
         "1",
         "0",
         "0",
         "1",
         "1",
         "0",
         "1",
         "5",
         "43",
         "16",
         "27"
        ],
        [
         "7",
         "21.0",
         "Female",
         "In a relationship",
         "University Student",
         "University",
         "Yes",
         "More than 5 hours",
         "5",
         "2",
         "3",
         "3",
         "3",
         "1",
         "1",
         "3",
         "1",
         "5",
         "5",
         "1",
         "0",
         "1",
         "1",
         "0",
         "0",
         "0",
         "0",
         "0",
         "1",
         "3",
         "33",
         "10",
         "23"
        ],
        [
         "8",
         "21.0",
         "Female",
         "In a relationship",
         "University Student",
         "University",
         "Yes",
         "More than 5 hours",
         "5",
         "2",
         "3",
         "3",
         "1",
         "1",
         "1",
         "3",
         "1",
         "5",
         "5",
         "1",
         "0",
         "1",
         "1",
         "0",
         "0",
         "0",
         "0",
         "0",
         "1",
         "3",
         "31",
         "10",
         "21"
        ],
        [
         "9",
         "20.0",
         "Male",
         "Single",
         "University Student",
         "University",
         "No",
         "Less than an Hour",
         "1",
         "1",
         "1",
         "1",
         "1",
         "1",
         "1",
         "1",
         "1",
         "1",
         "1",
         "1",
         "0",
         "0",
         "0",
         "1",
         "1",
         "0",
         "0",
         "0",
         "0",
         "2",
         "12",
         "4",
         "8"
        ],
        [
         "10",
         "24.0",
         "Male",
         "Single",
         "University Student",
         "University",
         "Yes",
         "Between 2 and 3 hours",
         "5",
         "5",
         "2",
         "4",
         "3",
         "5",
         "4",
         "2",
         "3",
         "5",
         "4",
         "5",
         "1",
         "1",
         "1",
         "0",
         "0",
         "0",
         "0",
         "0",
         "1",
         "4",
         "47",
         "14",
         "33"
        ],
        [
         "11",
         "21.0",
         "Female",
         "Single",
         "University Student",
         "University",
         "Yes",
         "Between 3 and 4 hours",
         "4",
         "4",
         "2",
         "5",
         "3",
         "4",
         "2",
         "2",
         "3",
         "3",
         "4",
         "2",
         "1",
         "1",
         "1",
         "1",
         "1",
         "1",
         "1",
         "0",
         "1",
         "8",
         "38",
         "11",
         "27"
        ],
        [
         "12",
         "22.0",
         "Female",
         "Single",
         "University Student",
         "University",
         "Yes",
         "Between 3 and 4 hours",
         "3",
         "4",
         "2",
         "4",
         "4",
         "2",
         "4",
         "2",
         "1",
         "3",
         "1",
         "5",
         "1",
         "1",
         "1",
         "1",
         "1",
         "1",
         "0",
         "1",
         "1",
         "8",
         "35",
         "10",
         "25"
        ],
        [
         "13",
         "21.0",
         "Female",
         "Single",
         "University Student",
         "University",
         "Yes",
         "Between 3 and 4 hours",
         "5",
         "3",
         "2",
         "1",
         "4",
         "4",
         "2",
         "3",
         "2",
         "3",
         "3",
         "3",
         "0",
         "1",
         "1",
         "1",
         "1",
         "1",
         "0",
         "1",
         "1",
         "7",
         "35",
         "12",
         "23"
        ],
        [
         "14",
         "22.0",
         "Male",
         "Single",
         "University Student",
         "University",
         "Yes",
         "More than 5 hours",
         "5",
         "5",
         "5",
         "5",
         "5",
         "5",
         "5",
         "5",
         "5",
         "5",
         "5",
         "5",
         "0",
         "1",
         "0",
         "1",
         "0",
         "0",
         "0",
         "0",
         "1",
         "3",
         "60",
         "20",
         "40"
        ],
        [
         "15",
         "23.0",
         "Male",
         "In a relationship",
         "University Student",
         "Private",
         "Yes",
         "Between 1 and 2 hours",
         "3",
         "4",
         "2",
         "3",
         "4",
         "4",
         "3",
         "2",
         "2",
         "3",
         "4",
         "2",
         "0",
         "1",
         "1",
         "0",
         "1",
         "0",
         "0",
         "0",
         "1",
         "4",
         "36",
         "10",
         "26"
        ],
        [
         "16",
         "21.0",
         "Male",
         "Single",
         "University Student",
         "University",
         "Yes",
         "Less than an Hour",
         "2",
         "2",
         "1",
         "2",
         "4",
         "2",
         "1",
         "3",
         "1",
         "4",
         "1",
         "3",
         "1",
         "1",
         "0",
         "0",
         "0",
         "0",
         "0",
         "0",
         "1",
         "3",
         "26",
         "7",
         "19"
        ],
        [
         "17",
         "25.0",
         "Male",
         "Single",
         "School Student",
         null,
         "Yes",
         "Between 4 and 5 hours",
         "5",
         "5",
         "4",
         "4",
         "3",
         "3",
         "1",
         "4",
         "2",
         "2",
         "2",
         "2",
         "0",
         "1",
         "1",
         "0",
         "1",
         "0",
         "0",
         "0",
         "1",
         "4",
         "37",
         "12",
         "25"
        ],
        [
         "18",
         "28.0",
         "Male",
         "Single",
         "University Student",
         "University",
         "Yes",
         "Between 1 and 2 hours",
         "3",
         "4",
         "2",
         "4",
         "5",
         "5",
         "2",
         "3",
         "1",
         "3",
         "3",
         "1",
         "1",
         "1",
         "0",
         "0",
         "1",
         "0",
         "0",
         "0",
         "1",
         "4",
         "36",
         "9",
         "27"
        ],
        [
         "19",
         "34.0",
         "Male",
         "Divorced",
         "Salaried Worker",
         "Private",
         "Yes",
         "Between 1 and 2 hours",
         "2",
         "4",
         "3",
         "3",
         "4",
         "1",
         "1",
         "5",
         "3",
         "2",
         "2",
         "2",
         "0",
         "1",
         "1",
         "0",
         "0",
         "0",
         "0",
         "1",
         "1",
         "4",
         "32",
         "11",
         "21"
        ],
        [
         "20",
         "22.0",
         "Male",
         "In a relationship",
         "University Student",
         "School, University",
         "Yes",
         "Between 2 and 3 hours",
         "4",
         "2",
         "2",
         "3",
         "3",
         "2",
         "2",
         "2",
         "1",
         "2",
         "3",
         "2",
         "1",
         "1",
         "1",
         "0",
         "1",
         "0",
         "0",
         "0",
         "1",
         "5",
         "28",
         "9",
         "19"
        ],
        [
         "21",
         "23.0",
         "Male",
         "Single",
         "University Student",
         "University",
         "Yes",
         "More than 5 hours",
         "3",
         "2",
         "4",
         "2",
         "4",
         "2",
         "5",
         "2",
         "1",
         "3",
         "3",
         "1",
         "1",
         "1",
         "1",
         "0",
         "1",
         "0",
         "1",
         "1",
         "1",
         "7",
         "32",
         "11",
         "21"
        ],
        [
         "22",
         "26.0",
         "Female",
         "Single",
         "University Student",
         "University",
         "Yes",
         "Between 3 and 4 hours",
         "3",
         "4",
         "3",
         "3",
         "4",
         "4",
         "4",
         "3",
         "3",
         "4",
         "4",
         "4",
         "0",
         "1",
         "1",
         "1",
         "0",
         "0",
         "0",
         "0",
         "1",
         "4",
         "43",
         "13",
         "30"
        ],
        [
         "23",
         "23.0",
         "Female",
         "Married",
         "University Student",
         "University",
         "Yes",
         "Between 1 and 2 hours",
         "3",
         "2",
         "2",
         "4",
         "4",
         "3",
         "3",
         "2",
         "3",
         "4",
         "4",
         "1",
         "0",
         "1",
         "1",
         "1",
         "0",
         "1",
         "0",
         "0",
         "1",
         "5",
         "35",
         "11",
         "24"
        ],
        [
         "24",
         "23.0",
         "Male",
         "Single",
         "University Student",
         null,
         "Yes",
         "Between 3 and 4 hours",
         "3",
         "3",
         "5",
         "5",
         "5",
         "5",
         "4",
         "1",
         "3",
         "3",
         "5",
         "5",
         "1",
         "1",
         "0",
         "0",
         "0",
         "0",
         "0",
         "1",
         "1",
         "4",
         "47",
         "11",
         "36"
        ],
        [
         "25",
         "35.0",
         "Female",
         "Married",
         "Salaried Worker",
         "School, University",
         "Yes",
         "Between 3 and 4 hours",
         "4",
         "4",
         "3",
         "3",
         "3",
         "3",
         "4",
         "4",
         "4",
         "4",
         "2",
         "2",
         "0",
         "1",
         "0",
         "0",
         "0",
         "0",
         "0",
         "0",
         "1",
         "2",
         "40",
         "16",
         "24"
        ],
        [
         "26",
         "20.0",
         "Male",
         "Single",
         "University Student",
         "University",
         "Yes",
         "Between 3 and 4 hours",
         "4",
         "4",
         "3",
         "3",
         "3",
         "4",
         "2",
         "3",
         "3",
         "4",
         "3",
         "4",
         "1",
         "1",
         "1",
         "0",
         "0",
         "0",
         "0",
         "0",
         "1",
         "4",
         "40",
         "12",
         "28"
        ],
        [
         "27",
         "35.0",
         "Male",
         "Married",
         "Salaried Worker",
         "Company",
         "Yes",
         "Between 2 and 3 hours",
         "2",
         "4",
         "4",
         "4",
         "4",
         "4",
         "4",
         "4",
         "4",
         "4",
         "4",
         "5",
         "0",
         "1",
         "1",
         "0",
         "0",
         "0",
         "0",
         "1",
         "1",
         "4",
         "47",
         "14",
         "33"
        ],
        [
         "28",
         "22.0",
         "Female",
         "In a relationship",
         "University Student",
         "University",
         "Yes",
         "Between 4 and 5 hours",
         "3",
         "4",
         "3",
         "4",
         "5",
         "4",
         "4",
         "3",
         "2",
         "4",
         "4",
         "1",
         "1",
         "1",
         "1",
         "1",
         "0",
         "1",
         "1",
         "0",
         "1",
         "7",
         "41",
         "12",
         "29"
        ],
        [
         "29",
         "21.0",
         "Female",
         "Single",
         "University Student",
         "University",
         "Yes",
         "Between 3 and 4 hours",
         "4",
         "4",
         "5",
         "5",
         "5",
         "4",
         "4",
         "4",
         "3",
         "5",
         "4",
         "1",
         "1",
         "1",
         "1",
         "0",
         "0",
         "1",
         "0",
         "0",
         "1",
         "5",
         "48",
         "15",
         "33"
        ],
        [
         "30",
         "22.0",
         "Female",
         "In a relationship",
         "University Student",
         "University",
         "Yes",
         "Between 3 and 4 hours",
         "4",
         "4",
         "3",
         "3",
         "5",
         "4",
         "5",
         "2",
         "3",
         "5",
         "4",
         "3",
         "1",
         "1",
         "1",
         "0",
         "0",
         "0",
         "0",
         "0",
         "1",
         "4",
         "45",
         "14",
         "31"
        ],
        [
         "31",
         "35.0",
         "Male",
         "Married",
         "Salaried Worker",
         "Private",
         "Yes",
         "Between 2 and 3 hours",
         "3",
         "4",
         "3",
         "3",
         "3",
         "2",
         "2",
         "2",
         "2",
         "3",
         "4",
         "2",
         "0",
         "1",
         "0",
         "1",
         "0",
         "0",
         "0",
         "0",
         "1",
         "3",
         "33",
         "9",
         "24"
        ],
        [
         "32",
         "24.0",
         "Male",
         "Single",
         "Salaried Worker",
         "Private",
         "Yes",
         "Between 2 and 3 hours",
         "3",
         "3",
         "3",
         "3",
         "3",
         "4",
         "2",
         "3",
         "3",
         "2",
         "3",
         "3",
         "0",
         "1",
         "1",
         "0",
         "0",
         "0",
         "1",
         "0",
         "1",
         "4",
         "35",
         "11",
         "24"
        ],
        [
         "33",
         "18.0",
         "Female",
         "Single",
         "School Student",
         "School, Private",
         "Yes",
         "Between 2 and 3 hours",
         "4",
         "3",
         "3",
         "3",
         "4",
         "3",
         "3",
         "2",
         "4",
         "3",
         "3",
         "2",
         "1",
         "1",
         "1",
         "1",
         "0",
         "0",
         "0",
         "0",
         "1",
         "5",
         "37",
         "13",
         "24"
        ],
        [
         "34",
         "19.0",
         "Female",
         "Single",
         "University Student",
         "University",
         "Yes",
         "Between 3 and 4 hours",
         "5",
         "5",
         "5",
         "5",
         "5",
         "5",
         "2",
         "3",
         "1",
         "5",
         "4",
         "4",
         "1",
         "1",
         "1",
         "0",
         "0",
         "0",
         "0",
         "0",
         "1",
         "4",
         "49",
         "11",
         "38"
        ],
        [
         "35",
         "21.0",
         "Non-binary/Trans",
         "Single",
         "University Student",
         "University",
         "Yes",
         "More than 5 hours",
         "3",
         "4",
         "5",
         "4",
         "4",
         "5",
         "1",
         "3",
         "1",
         "4",
         "2",
         "1",
         "1",
         "1",
         "1",
         "0",
         "0",
         "0",
         "0",
         "1",
         "1",
         "5",
         "37",
         "8",
         "29"
        ],
        [
         "36",
         "21.0",
         "Male",
         "Single",
         "University Student",
         "University",
         "Yes",
         "Between 3 and 4 hours",
         "5",
         "3",
         "4",
         "3",
         "2",
         "3",
         "5",
         "3",
         "4",
         "3",
         "3",
         "1",
         "0",
         "1",
         "1",
         "0",
         "0",
         "0",
         "0",
         "0",
         "0",
         "2",
         "39",
         "17",
         "22"
        ],
        [
         "37",
         "23.0",
         "Male",
         "Single",
         "University Student",
         "University",
         "Yes",
         "Less than an Hour",
         "2",
         "3",
         "1",
         "1",
         "1",
         "3",
         "1",
         "3",
         "1",
         "5",
         "4",
         "5",
         "1",
         "1",
         "1",
         "0",
         "1",
         "1",
         "0",
         "1",
         "1",
         "7",
         "30",
         "7",
         "23"
        ],
        [
         "38",
         "22.0",
         "Female",
         "Single",
         "University Student",
         "University",
         "Yes",
         "Between 3 and 4 hours",
         "4",
         "5",
         "5",
         "4",
         "4",
         "4",
         "2",
         "3",
         "3",
         "2",
         "2",
         "5",
         "0",
         "1",
         "1",
         "1",
         "0",
         "1",
         "0",
         "0",
         "1",
         "5",
         "43",
         "12",
         "31"
        ],
        [
         "39",
         "22.0",
         "Male",
         "Single",
         "University Student",
         "University, Company",
         "Yes",
         "Between 2 and 3 hours",
         "4",
         "4",
         "2",
         "4",
         "3",
         "5",
         "1",
         "3",
         "1",
         "1",
         "3",
         "4",
         "1",
         "1",
         "0",
         "0",
         "0",
         "0",
         "0",
         "0",
         "1",
         "3",
         "35",
         "9",
         "26"
        ],
        [
         "40",
         "21.0",
         "Female",
         "Single",
         "University Student",
         "University",
         "Yes",
         "Between 1 and 2 hours",
         "1",
         "1",
         "1",
         "1",
         "1",
         "1",
         "2",
         "1",
         "2",
         "3",
         "3",
         "1",
         "0",
         "1",
         "1",
         "0",
         "0",
         "1",
         "0",
         "0",
         "1",
         "4",
         "18",
         "6",
         "12"
        ],
        [
         "41",
         "21.0",
         "Female",
         "Single",
         "University Student",
         "University",
         "Yes",
         "Between 3 and 4 hours",
         "3",
         "5",
         "2",
         "3",
         "3",
         "3",
         "3",
         "4",
         "2",
         "4",
         "2",
         "2",
         "0",
         "1",
         "1",
         "0",
         "0",
         "1",
         "0",
         "0",
         "1",
         "4",
         "36",
         "12",
         "24"
        ],
        [
         "42",
         "56.0",
         "Female",
         "Married",
         "Retired",
         null,
         "Yes",
         "Between 1 and 2 hours",
         "1",
         "1",
         "1",
         "1",
         "3",
         "1",
         "1",
         "3",
         "1",
         "2",
         "3",
         "1",
         "0",
         "0",
         "0",
         "0",
         "0",
         "0",
         "0",
         "0",
         "1",
         "1",
         "19",
         "6",
         "13"
        ],
        [
         "43",
         "19.0",
         "Female",
         "Single",
         "School Student",
         "School, University",
         "Yes",
         "More than 5 hours",
         "3",
         "2",
         "4",
         "4",
         "5",
         "4",
         "5",
         "2",
         "1",
         "5",
         "4",
         "2",
         "0",
         "1",
         "1",
         "1",
         "0",
         "1",
         "0",
         "0",
         "1",
         "5",
         "41",
         "11",
         "30"
        ],
        [
         "44",
         "24.0",
         "Male",
         "Single",
         "Salaried Worker",
         "Private",
         "Yes",
         "More than 5 hours",
         "5",
         "1",
         "1",
         "3",
         "3",
         "3",
         "1",
         "3",
         "3",
         "3",
         "3",
         "3",
         "1",
         "0",
         "0",
         "0",
         "1",
         "0",
         "0",
         "1",
         "0",
         "3",
         "32",
         "12",
         "20"
        ],
        [
         "45",
         "22.0",
         "Female",
         "In a relationship",
         "University Student",
         "University",
         "Yes",
         "More than 5 hours",
         "4",
         "5",
         "4",
         "4",
         "5",
         "2",
         "3",
         "3",
         "3",
         "3",
         "2",
         "3",
         "0",
         "1",
         "1",
         "0",
         "0",
         "0",
         "0",
         "0",
         "1",
         "3",
         "41",
         "13",
         "28"
        ],
        [
         "46",
         "65.0",
         "Male",
         "Married",
         "Retired",
         "Goverment",
         "Yes",
         "Between 3 and 4 hours",
         "5",
         "3",
         "2",
         "2",
         "2",
         "1",
         "3",
         "4",
         "3",
         "1",
         "3",
         "2",
         "0",
         "1",
         "0",
         "0",
         "0",
         "0",
         "0",
         "0",
         "1",
         "2",
         "31",
         "15",
         "16"
        ],
        [
         "48",
         "40.0",
         "Male",
         "Married",
         "Salaried Worker",
         "Company, Private",
         "Yes",
         "Between 2 and 3 hours",
         "3",
         "3",
         "3",
         "3",
         "2",
         "3",
         "2",
         "3",
         "1",
         "2",
         "2",
         "1",
         "0",
         "0",
         "0",
         "0",
         "1",
         "0",
         "0",
         "1",
         "1",
         "3",
         "28",
         "9",
         "19"
        ],
        [
         "49",
         "33.0",
         "Female",
         "Single",
         "Salaried Worker",
         "School",
         "Yes",
         "Between 3 and 4 hours",
         "3",
         "3",
         "1",
         "3",
         "2",
         "1",
         "2",
         "2",
         "1",
         "1",
         "1",
         "1",
         "0",
         "1",
         "0",
         "0",
         "0",
         "0",
         "0",
         "0",
         "1",
         "2",
         "21",
         "8",
         "13"
        ],
        [
         "50",
         "22.0",
         "Female",
         "Single",
         "University Student",
         "University",
         "Yes",
         "Between 3 and 4 hours",
         "4",
         "4",
         "3",
         "4",
         "3",
         "2",
         "1",
         "3",
         "3",
         "3",
         "4",
         "4",
         "1",
         "1",
         "1",
         "1",
         "1",
         "1",
         "1",
         "1",
         "1",
         "9",
         "38",
         "11",
         "27"
        ]
       ],
       "shape": {
        "columns": 32,
        "rows": 462
       }
      },
      "text/html": [
       "<div>\n",
       "<style scoped>\n",
       "    .dataframe tbody tr th:only-of-type {\n",
       "        vertical-align: middle;\n",
       "    }\n",
       "\n",
       "    .dataframe tbody tr th {\n",
       "        vertical-align: top;\n",
       "    }\n",
       "\n",
       "    .dataframe thead th {\n",
       "        text-align: right;\n",
       "    }\n",
       "</style>\n",
       "<table border=\"1\" class=\"dataframe\">\n",
       "  <thead>\n",
       "    <tr style=\"text-align: right;\">\n",
       "      <th></th>\n",
       "      <th>age</th>\n",
       "      <th>gender</th>\n",
       "      <th>relationship</th>\n",
       "      <th>occupation</th>\n",
       "      <th>organisation</th>\n",
       "      <th>sm_use</th>\n",
       "      <th>time_on_sm</th>\n",
       "      <th>purposeless_sm_use</th>\n",
       "      <th>distracted_by_sm</th>\n",
       "      <th>restless_without_sm</th>\n",
       "      <th>...</th>\n",
       "      <th>Pinterest</th>\n",
       "      <th>Reddit</th>\n",
       "      <th>Snapchat</th>\n",
       "      <th>TikTok</th>\n",
       "      <th>Twitter</th>\n",
       "      <th>YouTube</th>\n",
       "      <th>total_platforms</th>\n",
       "      <th>TotalMH</th>\n",
       "      <th>CompVal</th>\n",
       "      <th>CogEmo</th>\n",
       "    </tr>\n",
       "  </thead>\n",
       "  <tbody>\n",
       "    <tr>\n",
       "      <th>0</th>\n",
       "      <td>21.0</td>\n",
       "      <td>Male</td>\n",
       "      <td>In a relationship</td>\n",
       "      <td>University Student</td>\n",
       "      <td>University</td>\n",
       "      <td>Yes</td>\n",
       "      <td>Between 2 and 3 hours</td>\n",
       "      <td>5</td>\n",
       "      <td>3</td>\n",
       "      <td>2</td>\n",
       "      <td>...</td>\n",
       "      <td>0</td>\n",
       "      <td>1</td>\n",
       "      <td>0</td>\n",
       "      <td>0</td>\n",
       "      <td>1</td>\n",
       "      <td>1</td>\n",
       "      <td>6</td>\n",
       "      <td>43</td>\n",
       "      <td>12</td>\n",
       "      <td>31</td>\n",
       "    </tr>\n",
       "    <tr>\n",
       "      <th>1</th>\n",
       "      <td>21.0</td>\n",
       "      <td>Female</td>\n",
       "      <td>Single</td>\n",
       "      <td>University Student</td>\n",
       "      <td>University</td>\n",
       "      <td>Yes</td>\n",
       "      <td>More than 5 hours</td>\n",
       "      <td>4</td>\n",
       "      <td>3</td>\n",
       "      <td>2</td>\n",
       "      <td>...</td>\n",
       "      <td>0</td>\n",
       "      <td>1</td>\n",
       "      <td>0</td>\n",
       "      <td>0</td>\n",
       "      <td>1</td>\n",
       "      <td>1</td>\n",
       "      <td>6</td>\n",
       "      <td>43</td>\n",
       "      <td>11</td>\n",
       "      <td>32</td>\n",
       "    </tr>\n",
       "    <tr>\n",
       "      <th>2</th>\n",
       "      <td>21.0</td>\n",
       "      <td>Female</td>\n",
       "      <td>Single</td>\n",
       "      <td>University Student</td>\n",
       "      <td>University</td>\n",
       "      <td>Yes</td>\n",
       "      <td>Between 3 and 4 hours</td>\n",
       "      <td>3</td>\n",
       "      <td>2</td>\n",
       "      <td>1</td>\n",
       "      <td>...</td>\n",
       "      <td>1</td>\n",
       "      <td>0</td>\n",
       "      <td>0</td>\n",
       "      <td>0</td>\n",
       "      <td>0</td>\n",
       "      <td>1</td>\n",
       "      <td>4</td>\n",
       "      <td>35</td>\n",
       "      <td>10</td>\n",
       "      <td>25</td>\n",
       "    </tr>\n",
       "    <tr>\n",
       "      <th>3</th>\n",
       "      <td>21.0</td>\n",
       "      <td>Female</td>\n",
       "      <td>Single</td>\n",
       "      <td>University Student</td>\n",
       "      <td>University</td>\n",
       "      <td>Yes</td>\n",
       "      <td>More than 5 hours</td>\n",
       "      <td>4</td>\n",
       "      <td>2</td>\n",
       "      <td>1</td>\n",
       "      <td>...</td>\n",
       "      <td>0</td>\n",
       "      <td>0</td>\n",
       "      <td>0</td>\n",
       "      <td>0</td>\n",
       "      <td>0</td>\n",
       "      <td>0</td>\n",
       "      <td>2</td>\n",
       "      <td>35</td>\n",
       "      <td>12</td>\n",
       "      <td>23</td>\n",
       "    </tr>\n",
       "    <tr>\n",
       "      <th>4</th>\n",
       "      <td>21.0</td>\n",
       "      <td>Female</td>\n",
       "      <td>Single</td>\n",
       "      <td>University Student</td>\n",
       "      <td>University</td>\n",
       "      <td>Yes</td>\n",
       "      <td>Between 2 and 3 hours</td>\n",
       "      <td>3</td>\n",
       "      <td>5</td>\n",
       "      <td>4</td>\n",
       "      <td>...</td>\n",
       "      <td>0</td>\n",
       "      <td>0</td>\n",
       "      <td>0</td>\n",
       "      <td>0</td>\n",
       "      <td>0</td>\n",
       "      <td>1</td>\n",
       "      <td>3</td>\n",
       "      <td>44</td>\n",
       "      <td>12</td>\n",
       "      <td>32</td>\n",
       "    </tr>\n",
       "    <tr>\n",
       "      <th>...</th>\n",
       "      <td>...</td>\n",
       "      <td>...</td>\n",
       "      <td>...</td>\n",
       "      <td>...</td>\n",
       "      <td>...</td>\n",
       "      <td>...</td>\n",
       "      <td>...</td>\n",
       "      <td>...</td>\n",
       "      <td>...</td>\n",
       "      <td>...</td>\n",
       "      <td>...</td>\n",
       "      <td>...</td>\n",
       "      <td>...</td>\n",
       "      <td>...</td>\n",
       "      <td>...</td>\n",
       "      <td>...</td>\n",
       "      <td>...</td>\n",
       "      <td>...</td>\n",
       "      <td>...</td>\n",
       "      <td>...</td>\n",
       "      <td>...</td>\n",
       "    </tr>\n",
       "    <tr>\n",
       "      <th>476</th>\n",
       "      <td>24.0</td>\n",
       "      <td>Male</td>\n",
       "      <td>Single</td>\n",
       "      <td>Salaried Worker</td>\n",
       "      <td>University, Private</td>\n",
       "      <td>Yes</td>\n",
       "      <td>Between 2 and 3 hours</td>\n",
       "      <td>3</td>\n",
       "      <td>4</td>\n",
       "      <td>3</td>\n",
       "      <td>...</td>\n",
       "      <td>0</td>\n",
       "      <td>0</td>\n",
       "      <td>0</td>\n",
       "      <td>0</td>\n",
       "      <td>0</td>\n",
       "      <td>1</td>\n",
       "      <td>3</td>\n",
       "      <td>42</td>\n",
       "      <td>13</td>\n",
       "      <td>29</td>\n",
       "    </tr>\n",
       "    <tr>\n",
       "      <th>477</th>\n",
       "      <td>26.0</td>\n",
       "      <td>Female</td>\n",
       "      <td>Married</td>\n",
       "      <td>Salaried Worker</td>\n",
       "      <td>University</td>\n",
       "      <td>Yes</td>\n",
       "      <td>Between 1 and 2 hours</td>\n",
       "      <td>2</td>\n",
       "      <td>1</td>\n",
       "      <td>2</td>\n",
       "      <td>...</td>\n",
       "      <td>0</td>\n",
       "      <td>0</td>\n",
       "      <td>0</td>\n",
       "      <td>0</td>\n",
       "      <td>0</td>\n",
       "      <td>1</td>\n",
       "      <td>2</td>\n",
       "      <td>35</td>\n",
       "      <td>12</td>\n",
       "      <td>23</td>\n",
       "    </tr>\n",
       "    <tr>\n",
       "      <th>478</th>\n",
       "      <td>29.0</td>\n",
       "      <td>Female</td>\n",
       "      <td>Married</td>\n",
       "      <td>Salaried Worker</td>\n",
       "      <td>University</td>\n",
       "      <td>Yes</td>\n",
       "      <td>Between 2 and 3 hours</td>\n",
       "      <td>3</td>\n",
       "      <td>3</td>\n",
       "      <td>4</td>\n",
       "      <td>...</td>\n",
       "      <td>0</td>\n",
       "      <td>0</td>\n",
       "      <td>0</td>\n",
       "      <td>0</td>\n",
       "      <td>0</td>\n",
       "      <td>1</td>\n",
       "      <td>2</td>\n",
       "      <td>34</td>\n",
       "      <td>13</td>\n",
       "      <td>21</td>\n",
       "    </tr>\n",
       "    <tr>\n",
       "      <th>479</th>\n",
       "      <td>21.0</td>\n",
       "      <td>Male</td>\n",
       "      <td>Single</td>\n",
       "      <td>University Student</td>\n",
       "      <td>University</td>\n",
       "      <td>Yes</td>\n",
       "      <td>Between 2 and 3 hours</td>\n",
       "      <td>2</td>\n",
       "      <td>3</td>\n",
       "      <td>2</td>\n",
       "      <td>...</td>\n",
       "      <td>1</td>\n",
       "      <td>0</td>\n",
       "      <td>0</td>\n",
       "      <td>0</td>\n",
       "      <td>1</td>\n",
       "      <td>1</td>\n",
       "      <td>6</td>\n",
       "      <td>37</td>\n",
       "      <td>11</td>\n",
       "      <td>26</td>\n",
       "    </tr>\n",
       "    <tr>\n",
       "      <th>480</th>\n",
       "      <td>53.0</td>\n",
       "      <td>Male</td>\n",
       "      <td>Married</td>\n",
       "      <td>Salaried Worker</td>\n",
       "      <td>Private</td>\n",
       "      <td>Yes</td>\n",
       "      <td>Less than an Hour</td>\n",
       "      <td>2</td>\n",
       "      <td>3</td>\n",
       "      <td>1</td>\n",
       "      <td>...</td>\n",
       "      <td>0</td>\n",
       "      <td>0</td>\n",
       "      <td>0</td>\n",
       "      <td>0</td>\n",
       "      <td>0</td>\n",
       "      <td>1</td>\n",
       "      <td>2</td>\n",
       "      <td>26</td>\n",
       "      <td>10</td>\n",
       "      <td>16</td>\n",
       "    </tr>\n",
       "  </tbody>\n",
       "</table>\n",
       "<p>462 rows × 32 columns</p>\n",
       "</div>"
      ],
      "text/plain": [
       "      age  gender       relationship          occupation         organisation  \\\n",
       "0    21.0    Male  In a relationship  University Student           University   \n",
       "1    21.0  Female             Single  University Student           University   \n",
       "2    21.0  Female             Single  University Student           University   \n",
       "3    21.0  Female             Single  University Student           University   \n",
       "4    21.0  Female             Single  University Student           University   \n",
       "..    ...     ...                ...                 ...                  ...   \n",
       "476  24.0    Male             Single     Salaried Worker  University, Private   \n",
       "477  26.0  Female            Married     Salaried Worker           University   \n",
       "478  29.0  Female            Married     Salaried Worker           University   \n",
       "479  21.0    Male             Single  University Student           University   \n",
       "480  53.0    Male            Married     Salaried Worker              Private   \n",
       "\n",
       "    sm_use             time_on_sm  purposeless_sm_use  distracted_by_sm  \\\n",
       "0      Yes  Between 2 and 3 hours                   5                 3   \n",
       "1      Yes      More than 5 hours                   4                 3   \n",
       "2      Yes  Between 3 and 4 hours                   3                 2   \n",
       "3      Yes      More than 5 hours                   4                 2   \n",
       "4      Yes  Between 2 and 3 hours                   3                 5   \n",
       "..     ...                    ...                 ...               ...   \n",
       "476    Yes  Between 2 and 3 hours                   3                 4   \n",
       "477    Yes  Between 1 and 2 hours                   2                 1   \n",
       "478    Yes  Between 2 and 3 hours                   3                 3   \n",
       "479    Yes  Between 2 and 3 hours                   2                 3   \n",
       "480    Yes      Less than an Hour                   2                 3   \n",
       "\n",
       "     restless_without_sm  ...  Pinterest  Reddit  Snapchat  TikTok  Twitter  \\\n",
       "0                      2  ...          0       1         0       0        1   \n",
       "1                      2  ...          0       1         0       0        1   \n",
       "2                      1  ...          1       0         0       0        0   \n",
       "3                      1  ...          0       0         0       0        0   \n",
       "4                      4  ...          0       0         0       0        0   \n",
       "..                   ...  ...        ...     ...       ...     ...      ...   \n",
       "476                    3  ...          0       0         0       0        0   \n",
       "477                    2  ...          0       0         0       0        0   \n",
       "478                    4  ...          0       0         0       0        0   \n",
       "479                    2  ...          1       0         0       0        1   \n",
       "480                    1  ...          0       0         0       0        0   \n",
       "\n",
       "     YouTube  total_platforms  TotalMH  CompVal  CogEmo  \n",
       "0          1                6       43       12      31  \n",
       "1          1                6       43       11      32  \n",
       "2          1                4       35       10      25  \n",
       "3          0                2       35       12      23  \n",
       "4          1                3       44       12      32  \n",
       "..       ...              ...      ...      ...     ...  \n",
       "476        1                3       42       13      29  \n",
       "477        1                2       35       12      23  \n",
       "478        1                2       34       13      21  \n",
       "479        1                6       37       11      26  \n",
       "480        1                2       26       10      16  \n",
       "\n",
       "[462 rows x 32 columns]"
      ]
     },
     "execution_count": 27,
     "metadata": {},
     "output_type": "execute_result"
    }
   ],
   "source": [
    "smmh_df_new"
   ]
  },
  {
   "cell_type": "markdown",
   "metadata": {},
   "source": [
    "## Descriptives"
   ]
  },
  {
   "cell_type": "code",
   "execution_count": 28,
   "metadata": {},
   "outputs": [
    {
     "data": {
      "application/vnd.microsoft.datawrangler.viewer.v0+json": {
       "columns": [
        {
         "name": "index",
         "rawType": "object",
         "type": "string"
        },
        {
         "name": "Mean",
         "rawType": "float64",
         "type": "float"
        },
        {
         "name": "Std",
         "rawType": "float64",
         "type": "float"
        }
       ],
       "conversionMethod": "pd.DataFrame",
       "ref": "3fc14617-b928-4070-807f-8978215f3a24",
       "rows": [
        [
         "TotalMH",
         "37.39",
         "9.42"
        ],
        [
         "CompVal",
         "11.65",
         "2.97"
        ],
        [
         "CogEmo",
         "25.74",
         "7.41"
        ]
       ],
       "shape": {
        "columns": 2,
        "rows": 3
       }
      },
      "text/html": [
       "<div>\n",
       "<style scoped>\n",
       "    .dataframe tbody tr th:only-of-type {\n",
       "        vertical-align: middle;\n",
       "    }\n",
       "\n",
       "    .dataframe tbody tr th {\n",
       "        vertical-align: top;\n",
       "    }\n",
       "\n",
       "    .dataframe thead th {\n",
       "        text-align: right;\n",
       "    }\n",
       "</style>\n",
       "<table border=\"1\" class=\"dataframe\">\n",
       "  <thead>\n",
       "    <tr style=\"text-align: right;\">\n",
       "      <th></th>\n",
       "      <th>Mean</th>\n",
       "      <th>Std</th>\n",
       "    </tr>\n",
       "  </thead>\n",
       "  <tbody>\n",
       "    <tr>\n",
       "      <th>TotalMH</th>\n",
       "      <td>37.39</td>\n",
       "      <td>9.42</td>\n",
       "    </tr>\n",
       "    <tr>\n",
       "      <th>CompVal</th>\n",
       "      <td>11.65</td>\n",
       "      <td>2.97</td>\n",
       "    </tr>\n",
       "    <tr>\n",
       "      <th>CogEmo</th>\n",
       "      <td>25.74</td>\n",
       "      <td>7.41</td>\n",
       "    </tr>\n",
       "  </tbody>\n",
       "</table>\n",
       "</div>"
      ],
      "text/plain": [
       "          Mean   Std\n",
       "TotalMH  37.39  9.42\n",
       "CompVal  11.65  2.97\n",
       "CogEmo   25.74  7.41"
      ]
     },
     "execution_count": 28,
     "metadata": {},
     "output_type": "execute_result"
    }
   ],
   "source": [
    "mh_scores = list(smmh_df_new.columns[-3:])\n",
    "mhscores_dict = {}\n",
    "\n",
    "for mh in mh_scores:\n",
    "\tmhscores_dict[f'{mh}'] = [smmh_df_new[f'{mh}'].mean().round(2), smmh_df_new[f'{mh}'].std().round(2)]\n",
    "\n",
    "pd.DataFrame().from_dict(mhscores_dict, orient='index', columns=['Mean', 'Std'])"
   ]
  },
  {
   "cell_type": "markdown",
   "metadata": {},
   "source": [
    "# Comparing mental health scores between Reddit and Instagram users"
   ]
  },
  {
   "cell_type": "code",
   "execution_count": 29,
   "metadata": {},
   "outputs": [
    {
     "data": {
      "application/vnd.microsoft.datawrangler.viewer.v0+json": {
       "columns": [
        {
         "name": "index",
         "rawType": "int64",
         "type": "integer"
        },
        {
         "name": "0",
         "rawType": "object",
         "type": "string"
        }
       ],
       "conversionMethod": "pd.DataFrame",
       "ref": "79e3db68-b9c1-4073-b549-2d37a41875ca",
       "rows": [
        [
         "0",
         "age"
        ],
        [
         "1",
         "gender"
        ],
        [
         "2",
         "relationship"
        ],
        [
         "3",
         "occupation"
        ],
        [
         "4",
         "organisation"
        ],
        [
         "5",
         "sm_use"
        ],
        [
         "6",
         "time_on_sm"
        ],
        [
         "7",
         "purposeless_sm_use"
        ],
        [
         "8",
         "distracted_by_sm"
        ],
        [
         "9",
         "restless_without_sm"
        ],
        [
         "10",
         "easily_distracted"
        ],
        [
         "11",
         "bothered_by_worries"
        ],
        [
         "12",
         "difficult_to_concentrate"
        ],
        [
         "13",
         "social_comparison"
        ],
        [
         "14",
         "social_comparison_feelings"
        ],
        [
         "15",
         "validation_seeking"
        ],
        [
         "16",
         "depressed"
        ],
        [
         "17",
         "interest_in_daily_activities"
        ],
        [
         "18",
         "sleep_issues"
        ],
        [
         "19",
         "Discord"
        ],
        [
         "20",
         "Facebook"
        ],
        [
         "21",
         "Instagram"
        ],
        [
         "22",
         "Pinterest"
        ],
        [
         "23",
         "Reddit"
        ],
        [
         "24",
         "Snapchat"
        ],
        [
         "25",
         "TikTok"
        ],
        [
         "26",
         "Twitter"
        ],
        [
         "27",
         "YouTube"
        ],
        [
         "28",
         "total_platforms"
        ],
        [
         "29",
         "TotalMH"
        ],
        [
         "30",
         "CompVal"
        ],
        [
         "31",
         "CogEmo"
        ]
       ],
       "shape": {
        "columns": 1,
        "rows": 32
       }
      },
      "text/html": [
       "<div>\n",
       "<style scoped>\n",
       "    .dataframe tbody tr th:only-of-type {\n",
       "        vertical-align: middle;\n",
       "    }\n",
       "\n",
       "    .dataframe tbody tr th {\n",
       "        vertical-align: top;\n",
       "    }\n",
       "\n",
       "    .dataframe thead th {\n",
       "        text-align: right;\n",
       "    }\n",
       "</style>\n",
       "<table border=\"1\" class=\"dataframe\">\n",
       "  <thead>\n",
       "    <tr style=\"text-align: right;\">\n",
       "      <th></th>\n",
       "      <th>0</th>\n",
       "    </tr>\n",
       "  </thead>\n",
       "  <tbody>\n",
       "    <tr>\n",
       "      <th>0</th>\n",
       "      <td>age</td>\n",
       "    </tr>\n",
       "    <tr>\n",
       "      <th>1</th>\n",
       "      <td>gender</td>\n",
       "    </tr>\n",
       "    <tr>\n",
       "      <th>2</th>\n",
       "      <td>relationship</td>\n",
       "    </tr>\n",
       "    <tr>\n",
       "      <th>3</th>\n",
       "      <td>occupation</td>\n",
       "    </tr>\n",
       "    <tr>\n",
       "      <th>4</th>\n",
       "      <td>organisation</td>\n",
       "    </tr>\n",
       "    <tr>\n",
       "      <th>5</th>\n",
       "      <td>sm_use</td>\n",
       "    </tr>\n",
       "    <tr>\n",
       "      <th>6</th>\n",
       "      <td>time_on_sm</td>\n",
       "    </tr>\n",
       "    <tr>\n",
       "      <th>7</th>\n",
       "      <td>purposeless_sm_use</td>\n",
       "    </tr>\n",
       "    <tr>\n",
       "      <th>8</th>\n",
       "      <td>distracted_by_sm</td>\n",
       "    </tr>\n",
       "    <tr>\n",
       "      <th>9</th>\n",
       "      <td>restless_without_sm</td>\n",
       "    </tr>\n",
       "    <tr>\n",
       "      <th>10</th>\n",
       "      <td>easily_distracted</td>\n",
       "    </tr>\n",
       "    <tr>\n",
       "      <th>11</th>\n",
       "      <td>bothered_by_worries</td>\n",
       "    </tr>\n",
       "    <tr>\n",
       "      <th>12</th>\n",
       "      <td>difficult_to_concentrate</td>\n",
       "    </tr>\n",
       "    <tr>\n",
       "      <th>13</th>\n",
       "      <td>social_comparison</td>\n",
       "    </tr>\n",
       "    <tr>\n",
       "      <th>14</th>\n",
       "      <td>social_comparison_feelings</td>\n",
       "    </tr>\n",
       "    <tr>\n",
       "      <th>15</th>\n",
       "      <td>validation_seeking</td>\n",
       "    </tr>\n",
       "    <tr>\n",
       "      <th>16</th>\n",
       "      <td>depressed</td>\n",
       "    </tr>\n",
       "    <tr>\n",
       "      <th>17</th>\n",
       "      <td>interest_in_daily_activities</td>\n",
       "    </tr>\n",
       "    <tr>\n",
       "      <th>18</th>\n",
       "      <td>sleep_issues</td>\n",
       "    </tr>\n",
       "    <tr>\n",
       "      <th>19</th>\n",
       "      <td>Discord</td>\n",
       "    </tr>\n",
       "    <tr>\n",
       "      <th>20</th>\n",
       "      <td>Facebook</td>\n",
       "    </tr>\n",
       "    <tr>\n",
       "      <th>21</th>\n",
       "      <td>Instagram</td>\n",
       "    </tr>\n",
       "    <tr>\n",
       "      <th>22</th>\n",
       "      <td>Pinterest</td>\n",
       "    </tr>\n",
       "    <tr>\n",
       "      <th>23</th>\n",
       "      <td>Reddit</td>\n",
       "    </tr>\n",
       "    <tr>\n",
       "      <th>24</th>\n",
       "      <td>Snapchat</td>\n",
       "    </tr>\n",
       "    <tr>\n",
       "      <th>25</th>\n",
       "      <td>TikTok</td>\n",
       "    </tr>\n",
       "    <tr>\n",
       "      <th>26</th>\n",
       "      <td>Twitter</td>\n",
       "    </tr>\n",
       "    <tr>\n",
       "      <th>27</th>\n",
       "      <td>YouTube</td>\n",
       "    </tr>\n",
       "    <tr>\n",
       "      <th>28</th>\n",
       "      <td>total_platforms</td>\n",
       "    </tr>\n",
       "    <tr>\n",
       "      <th>29</th>\n",
       "      <td>TotalMH</td>\n",
       "    </tr>\n",
       "    <tr>\n",
       "      <th>30</th>\n",
       "      <td>CompVal</td>\n",
       "    </tr>\n",
       "    <tr>\n",
       "      <th>31</th>\n",
       "      <td>CogEmo</td>\n",
       "    </tr>\n",
       "  </tbody>\n",
       "</table>\n",
       "</div>"
      ],
      "text/plain": [
       "                               0\n",
       "0                            age\n",
       "1                         gender\n",
       "2                   relationship\n",
       "3                     occupation\n",
       "4                   organisation\n",
       "5                         sm_use\n",
       "6                     time_on_sm\n",
       "7             purposeless_sm_use\n",
       "8               distracted_by_sm\n",
       "9            restless_without_sm\n",
       "10             easily_distracted\n",
       "11           bothered_by_worries\n",
       "12      difficult_to_concentrate\n",
       "13             social_comparison\n",
       "14    social_comparison_feelings\n",
       "15            validation_seeking\n",
       "16                     depressed\n",
       "17  interest_in_daily_activities\n",
       "18                  sleep_issues\n",
       "19                       Discord\n",
       "20                      Facebook\n",
       "21                     Instagram\n",
       "22                     Pinterest\n",
       "23                        Reddit\n",
       "24                      Snapchat\n",
       "25                        TikTok\n",
       "26                       Twitter\n",
       "27                       YouTube\n",
       "28               total_platforms\n",
       "29                       TotalMH\n",
       "30                       CompVal\n",
       "31                        CogEmo"
      ]
     },
     "execution_count": 29,
     "metadata": {},
     "output_type": "execute_result"
    }
   ],
   "source": [
    "pd.DataFrame(smmh_df_new.columns)"
   ]
  },
  {
   "cell_type": "code",
   "execution_count": 30,
   "metadata": {},
   "outputs": [],
   "source": [
    "smmh_df_new = smmh_df_new[smmh_df_new.columns[np.r_[19:32]]]"
   ]
  },
  {
   "cell_type": "code",
   "execution_count": 31,
   "metadata": {},
   "outputs": [
    {
     "name": "stdout",
     "output_type": "stream",
     "text": [
      "(30, 13) (253, 13) 283\n"
     ]
    }
   ],
   "source": [
    "reddit_df = smmh_df_new[(smmh_df_new['Reddit'] == 1) & (smmh_df_new['Instagram'] == 0)]\n",
    "insta = smmh_df_new[(smmh_df_new['Reddit'] == 0) & (smmh_df_new['Instagram'] == 1)]\n",
    "\n",
    "print(reddit_df.shape, insta.shape, reddit_df.shape[0] + insta.shape[0])"
   ]
  },
  {
   "cell_type": "code",
   "execution_count": 32,
   "metadata": {},
   "outputs": [
    {
     "name": "stdout",
     "output_type": "stream",
     "text": [
      "(30, 13)\n"
     ]
    }
   ],
   "source": [
    "insta_df = insta.sample(n=30, random_state=5)\n",
    "\n",
    "print(insta_df.shape)"
   ]
  },
  {
   "cell_type": "code",
   "execution_count": 33,
   "metadata": {},
   "outputs": [],
   "source": [
    "reddit_MH = reddit_df['TotalMH'].values\n",
    "insta_MH = insta_df['TotalMH'].values\n",
    "\n",
    "reddit_CV = reddit_df['CompVal'].values\n",
    "insta_CV = insta_df['CompVal'].values\n",
    "\n",
    "reddit_CE = reddit_df['CogEmo'].values\n",
    "insta_CE = insta_df['CogEmo'].values"
   ]
  },
  {
   "cell_type": "code",
   "execution_count": 34,
   "metadata": {},
   "outputs": [
    {
     "data": {
      "application/vnd.microsoft.datawrangler.viewer.v0+json": {
       "columns": [
        {
         "name": "index",
         "rawType": "object",
         "type": "string"
        },
        {
         "name": "lstat",
         "rawType": "float64",
         "type": "float"
        },
        {
         "name": "p-value",
         "rawType": "float64",
         "type": "float"
        }
       ],
       "conversionMethod": "pd.DataFrame",
       "ref": "d772990f-816f-4ae1-8fc4-18aba9d6aa1d",
       "rows": [
        [
         "MH",
         "0.2",
         "0.656"
        ],
        [
         "CV",
         "0.03",
         "0.862"
        ],
        [
         "CE",
         "1.37",
         "0.246"
        ]
       ],
       "shape": {
        "columns": 2,
        "rows": 3
       }
      },
      "text/html": [
       "<div>\n",
       "<style scoped>\n",
       "    .dataframe tbody tr th:only-of-type {\n",
       "        vertical-align: middle;\n",
       "    }\n",
       "\n",
       "    .dataframe tbody tr th {\n",
       "        vertical-align: top;\n",
       "    }\n",
       "\n",
       "    .dataframe thead th {\n",
       "        text-align: right;\n",
       "    }\n",
       "</style>\n",
       "<table border=\"1\" class=\"dataframe\">\n",
       "  <thead>\n",
       "    <tr style=\"text-align: right;\">\n",
       "      <th></th>\n",
       "      <th>lstat</th>\n",
       "      <th>p-value</th>\n",
       "    </tr>\n",
       "  </thead>\n",
       "  <tbody>\n",
       "    <tr>\n",
       "      <th>MH</th>\n",
       "      <td>0.20</td>\n",
       "      <td>0.656</td>\n",
       "    </tr>\n",
       "    <tr>\n",
       "      <th>CV</th>\n",
       "      <td>0.03</td>\n",
       "      <td>0.862</td>\n",
       "    </tr>\n",
       "    <tr>\n",
       "      <th>CE</th>\n",
       "      <td>1.37</td>\n",
       "      <td>0.246</td>\n",
       "    </tr>\n",
       "  </tbody>\n",
       "</table>\n",
       "</div>"
      ],
      "text/plain": [
       "    lstat  p-value\n",
       "MH   0.20    0.656\n",
       "CV   0.03    0.862\n",
       "CE   1.37    0.246"
      ]
     },
     "metadata": {},
     "output_type": "display_data"
    }
   ],
   "source": [
    "# Levene's test (check whether variance between groups is equal)\n",
    "from scipy.stats import levene\n",
    "levene_dict = {}\n",
    "\n",
    "names = ['MH', 'CV', 'CE']\n",
    "reddit_val = [reddit_MH, reddit_CV, reddit_CE]\n",
    "insta_vals = [insta_MH, insta_CV, insta_CE]\n",
    "\n",
    "for name, rval, ival in zip(names, reddit_val, insta_vals):\n",
    "\tlstat, pvalue = levene(rval, ival)\n",
    "\tlevene_dict[f'{name}'] = [lstat.round(2), pvalue.round(3)]\n",
    "\n",
    "rp_ttest = pd.DataFrame().from_dict(levene_dict, orient='index')\n",
    "rp_ttest.columns = ['lstat', 'p-value']\n",
    "\n",
    "display(rp_ttest)"
   ]
  },
  {
   "cell_type": "markdown",
   "metadata": {},
   "source": [
    "If $p < 0.05$, variances are significantly different (use Welch’s t-test with `equal_var=False` in `ttest_ind`).\n",
    "\n",
    "If $p ≥ 0.05$, assume equal variances (use regular t-test with `equal_var=True`)."
   ]
  },
  {
   "cell_type": "code",
   "execution_count": 35,
   "metadata": {},
   "outputs": [
    {
     "data": {
      "application/vnd.microsoft.datawrangler.viewer.v0+json": {
       "columns": [
        {
         "name": "index",
         "rawType": "object",
         "type": "string"
        },
        {
         "name": "tstat",
         "rawType": "float64",
         "type": "float"
        },
        {
         "name": "p-value",
         "rawType": "float64",
         "type": "float"
        }
       ],
       "conversionMethod": "pd.DataFrame",
       "ref": "a705033b-927c-4a42-921f-b12a7a46c4a8",
       "rows": [
        [
         "MH",
         "-1.8",
         "0.07706"
        ],
        [
         "CV",
         "-2.77",
         "0.00753"
        ],
        [
         "CE",
         "-1.339",
         "0.18567"
        ]
       ],
       "shape": {
        "columns": 2,
        "rows": 3
       }
      },
      "text/html": [
       "<div>\n",
       "<style scoped>\n",
       "    .dataframe tbody tr th:only-of-type {\n",
       "        vertical-align: middle;\n",
       "    }\n",
       "\n",
       "    .dataframe tbody tr th {\n",
       "        vertical-align: top;\n",
       "    }\n",
       "\n",
       "    .dataframe thead th {\n",
       "        text-align: right;\n",
       "    }\n",
       "</style>\n",
       "<table border=\"1\" class=\"dataframe\">\n",
       "  <thead>\n",
       "    <tr style=\"text-align: right;\">\n",
       "      <th></th>\n",
       "      <th>tstat</th>\n",
       "      <th>p-value</th>\n",
       "    </tr>\n",
       "  </thead>\n",
       "  <tbody>\n",
       "    <tr>\n",
       "      <th>MH</th>\n",
       "      <td>-1.800</td>\n",
       "      <td>0.07706</td>\n",
       "    </tr>\n",
       "    <tr>\n",
       "      <th>CV</th>\n",
       "      <td>-2.770</td>\n",
       "      <td>0.00753</td>\n",
       "    </tr>\n",
       "    <tr>\n",
       "      <th>CE</th>\n",
       "      <td>-1.339</td>\n",
       "      <td>0.18567</td>\n",
       "    </tr>\n",
       "  </tbody>\n",
       "</table>\n",
       "</div>"
      ],
      "text/plain": [
       "    tstat  p-value\n",
       "MH -1.800  0.07706\n",
       "CV -2.770  0.00753\n",
       "CE -1.339  0.18567"
      ]
     },
     "metadata": {},
     "output_type": "display_data"
    },
    {
     "data": {
      "application/vnd.microsoft.datawrangler.viewer.v0+json": {
       "columns": [
        {
         "name": "index",
         "rawType": "object",
         "type": "string"
        },
        {
         "name": "cohens_d",
         "rawType": "float64",
         "type": "float"
        }
       ],
       "conversionMethod": "pd.DataFrame",
       "ref": "3d5bd0fa-08bf-4b38-bbf6-b536f965580d",
       "rows": [
        [
         "MH",
         "-0.465"
        ],
        [
         "CV",
         "-0.715"
        ],
        [
         "CE",
         "-0.346"
        ]
       ],
       "shape": {
        "columns": 1,
        "rows": 3
       }
      },
      "text/html": [
       "<div>\n",
       "<style scoped>\n",
       "    .dataframe tbody tr th:only-of-type {\n",
       "        vertical-align: middle;\n",
       "    }\n",
       "\n",
       "    .dataframe tbody tr th {\n",
       "        vertical-align: top;\n",
       "    }\n",
       "\n",
       "    .dataframe thead th {\n",
       "        text-align: right;\n",
       "    }\n",
       "</style>\n",
       "<table border=\"1\" class=\"dataframe\">\n",
       "  <thead>\n",
       "    <tr style=\"text-align: right;\">\n",
       "      <th></th>\n",
       "      <th>cohens_d</th>\n",
       "    </tr>\n",
       "  </thead>\n",
       "  <tbody>\n",
       "    <tr>\n",
       "      <th>MH</th>\n",
       "      <td>-0.465</td>\n",
       "    </tr>\n",
       "    <tr>\n",
       "      <th>CV</th>\n",
       "      <td>-0.715</td>\n",
       "    </tr>\n",
       "    <tr>\n",
       "      <th>CE</th>\n",
       "      <td>-0.346</td>\n",
       "    </tr>\n",
       "  </tbody>\n",
       "</table>\n",
       "</div>"
      ],
      "text/plain": [
       "    cohens_d\n",
       "MH    -0.465\n",
       "CV    -0.715\n",
       "CE    -0.346"
      ]
     },
     "metadata": {},
     "output_type": "display_data"
    },
    {
     "data": {
      "application/vnd.microsoft.datawrangler.viewer.v0+json": {
       "columns": [
        {
         "name": "index",
         "rawType": "object",
         "type": "string"
        },
        {
         "name": "mean",
         "rawType": "float64",
         "type": "float"
        },
        {
         "name": "std",
         "rawType": "float64",
         "type": "float"
        }
       ],
       "conversionMethod": "pd.DataFrame",
       "ref": "4041972d-71cc-4e1c-8cac-15b58f9a0704",
       "rows": [
        [
         "reddit_MH",
         "32.4",
         "9.88"
        ],
        [
         "reddit_CV",
         "9.73",
         "2.28"
        ],
        [
         "reddit_CE",
         "22.67",
         "8.63"
        ],
        [
         "insta_MH",
         "36.83",
         "8.85"
        ],
        [
         "insta_CV",
         "11.4",
         "2.3"
        ],
        [
         "insta_CE",
         "25.43",
         "7.01"
        ]
       ],
       "shape": {
        "columns": 2,
        "rows": 6
       }
      },
      "text/html": [
       "<div>\n",
       "<style scoped>\n",
       "    .dataframe tbody tr th:only-of-type {\n",
       "        vertical-align: middle;\n",
       "    }\n",
       "\n",
       "    .dataframe tbody tr th {\n",
       "        vertical-align: top;\n",
       "    }\n",
       "\n",
       "    .dataframe thead th {\n",
       "        text-align: right;\n",
       "    }\n",
       "</style>\n",
       "<table border=\"1\" class=\"dataframe\">\n",
       "  <thead>\n",
       "    <tr style=\"text-align: right;\">\n",
       "      <th></th>\n",
       "      <th>mean</th>\n",
       "      <th>std</th>\n",
       "    </tr>\n",
       "  </thead>\n",
       "  <tbody>\n",
       "    <tr>\n",
       "      <th>reddit_MH</th>\n",
       "      <td>32.40</td>\n",
       "      <td>9.88</td>\n",
       "    </tr>\n",
       "    <tr>\n",
       "      <th>reddit_CV</th>\n",
       "      <td>9.73</td>\n",
       "      <td>2.28</td>\n",
       "    </tr>\n",
       "    <tr>\n",
       "      <th>reddit_CE</th>\n",
       "      <td>22.67</td>\n",
       "      <td>8.63</td>\n",
       "    </tr>\n",
       "    <tr>\n",
       "      <th>insta_MH</th>\n",
       "      <td>36.83</td>\n",
       "      <td>8.85</td>\n",
       "    </tr>\n",
       "    <tr>\n",
       "      <th>insta_CV</th>\n",
       "      <td>11.40</td>\n",
       "      <td>2.30</td>\n",
       "    </tr>\n",
       "    <tr>\n",
       "      <th>insta_CE</th>\n",
       "      <td>25.43</td>\n",
       "      <td>7.01</td>\n",
       "    </tr>\n",
       "  </tbody>\n",
       "</table>\n",
       "</div>"
      ],
      "text/plain": [
       "            mean   std\n",
       "reddit_MH  32.40  9.88\n",
       "reddit_CV   9.73  2.28\n",
       "reddit_CE  22.67  8.63\n",
       "insta_MH   36.83  8.85\n",
       "insta_CV   11.40  2.30\n",
       "insta_CE   25.43  7.01"
      ]
     },
     "metadata": {},
     "output_type": "display_data"
    }
   ],
   "source": [
    "from scipy.stats import ttest_ind\n",
    "import pingouin as pg\n",
    "\n",
    "ttest_dict = {}\n",
    "cohensd = {}\n",
    "\n",
    "names = ['MH', 'CV', 'CE']\n",
    "reddit_val = [reddit_MH, reddit_CV, reddit_CE]\n",
    "insta_vals = [insta_MH, insta_CV, insta_CE]\n",
    "\n",
    "for name, rval, ival in zip(names, reddit_val, insta_vals):\n",
    "\t# t-test\n",
    "\ttstat, pvalue = ttest_ind(rval, ival, equal_var=True)\n",
    "\tttest_dict[f'{name}'] = [tstat.round(3), pvalue.round(5)]\n",
    "\n",
    "\t# Cohen's d\n",
    "\tcohensd[f'{name}'] = pg.compute_effsize(rval, ival, eftype='cohen').round(3)\n",
    "\n",
    "# t-test dataframe\n",
    "rp_ttest = pd.DataFrame().from_dict(ttest_dict, orient='index')\n",
    "rp_ttest.columns = ['tstat', 'p-value']\n",
    "\n",
    "# Cohen's d dataframe\n",
    "rp_cohensd = pd.DataFrame().from_dict(cohensd, orient='index')\n",
    "rp_cohensd.columns = ['cohens_d']\n",
    "\n",
    "display(rp_ttest, rp_cohensd)\n",
    "\n",
    "\n",
    "# Mean\n",
    "group_means = {}\n",
    "names = ['reddit_MH', 'reddit_CV', 'reddit_CE', 'insta_MH', 'insta_CV', 'insta_CE']\n",
    "rp_vals = [reddit_MH, reddit_CV, reddit_CE, insta_MH, insta_CV, insta_CE]\n",
    "\n",
    "for name, rp in zip(names, rp_vals):\n",
    "\tgroup_means[f'{name}'] = [np.mean(rp).round(2), np.std(rp).round(2)]\n",
    "\n",
    "rp_means = pd.DataFrame().from_dict(group_means, orient='index')\n",
    "rp_means.columns = ['mean', 'std']\n",
    "\n",
    "display(rp_means)\n"
   ]
  },
  {
   "cell_type": "markdown",
   "metadata": {},
   "source": [
    "Cohen's d: The negative sign means that Group 1 (reddit) has a lower mean than Group 2 (instagram).\n",
    "- 0.2 → Small effect\n",
    "- 0.5 → Medium effect\n",
    "- 0.8 → Large effect"
   ]
  }
 ],
 "metadata": {
  "kernelspec": {
   "display_name": "default",
   "language": "python",
   "name": "python3"
  },
  "language_info": {
   "codemirror_mode": {
    "name": "ipython",
    "version": 3
   },
   "file_extension": ".py",
   "mimetype": "text/x-python",
   "name": "python",
   "nbconvert_exporter": "python",
   "pygments_lexer": "ipython3",
   "version": "3.13.2"
  }
 },
 "nbformat": 4,
 "nbformat_minor": 2
}
